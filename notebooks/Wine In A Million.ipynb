{
 "cells": [
  {
   "cell_type": "markdown",
   "id": "78716ae0",
   "metadata": {},
   "source": [
    "# Create Wine Recommender Using NLP on AWS SageMaker\n",
    "\n",
    "Authors: __[Zephyr Headley](https://github.com/jzheadley)__ and __[John Naylor](https://jonaylor.xyz)__\n",
    "\n",
    "Blog Post: \\<Blog Post Link>\n",
    "\n",
    "[![Open In SageMaker Studio Lab](https://studiolab.sagemaker.aws/studiolab.svg)](https://studiolab.sagemaker.aws/import/github/jonaylor89/WineInAMillion/blob/main/notebooks/Wine%20In%20A%20Million.ipynb)\n"
   ]
  },
  {
   "cell_type": "markdown",
   "id": "23831740",
   "metadata": {},
   "source": [
    "# Introduction\n",
    "\n",
    "**Bidirectional Encoder Representations from Transformers** (**BERT**) is a [transformer](https://en.wikipedia.org/wiki/Transformer_(machine_learning_model)) based [machine learning](https://en.wikipedia.org/wiki/Machine_learning) technique for [natural language processing](https://en.wikipedia.org/wiki/Natural_language_processing) (NLP) pre-training developed by [Google](https://en.wikipedia.org/wiki/Google). BERT was created and published in 2018 by Jacob Devlin and his colleagues from Google. In 2019, Google announced that it had begun leveraging BERT in [its search engine](https://en.wikipedia.org/wiki/Google_Search), and by late 2020 it was using BERT in almost every English-language query. A 2020 literature survey concluded that \"in a little over a year, BERT has become a ubiquitous baseline in NLP experiments\", counting over 150 research publications analyzing and improving the model. BERT improves on previous word2vec models but not just embedding the lone words but embedding words using the context they are in to more accurately represent them. Today, BERT has been adapted, altered, and fine tuned for many different use cases and in this notebook, we'll specifically be using **Sentence-BERT**. \n",
    "\n",
    "### What is Sentence-BERT?\n",
    "\n",
    "Sentence-BERT is a modification of pretrained BERT described well in an article [here](https://www.capitalone.com/tech/machine-learning/how-to-finetune-sbert-for-question-matching/). To quote a passage from said article:\n",
    "\n",
    "> Sentence-BERT is a word embedding model. [Word embedding](https://en.wikipedia.org/wiki/Word_embedding) models are used to numerically represent language by transforming phrases, words, or word pieces (parts of words) into vectors. These models can be pre-trained on a large background corpus (dataset) and then later updated with a smaller corpus that is catered towards a specific domain or task. This process is known as fine-tuning.\n",
    "> \n",
    "\n",
    "Sentence-BERT works great for the task we're going to be using it for because it has been optimized for faster similarity computation on the individual sentence level.\n",
    "\n",
    "### Nearest Neighbors\n",
    "\n",
    "The principle behind nearest neighbor methods is to find a predefined number of training samples closest in distance to the new point. The number of samples can be a user-defined constant (k-nearest neighbor learning), or vary based on the local density of points (radius-based neighbor learning). The distance can, in general, be any metric measure: standard Euclidean distance is the most common choice, along with Manhattan and Cosine Similarity. Neighbors-based methods are known as *non-generalizing* machine learning methods, since they simply “remember” all of its training data (possibly transformed into a fast indexing structure such as a [Ball Tree](https://scikit-learn.org/stable/modules/neighbors.html#ball-tree) or [KD Tree](https://scikit-learn.org/stable/modules/neighbors.html#kd-tree)). This is similar to the popular KNN algorithm except that, generally, KNN usually implies classification or regression on the neighboring sample point while *just* NN is simply returning the neighboring sample points. \n",
    "\n",
    "### Overview\n",
    "\n",
    "In this notebook, we'll demonstrate how BERT can be used in tandem with Nearest Neighbors to create a recommendation engine that uses natural language as an input. To do this, we'll take advantage of a dataset of wine reviews located [here](https://www.kaggle.com/zynicide/wine-reviews) that contains 130k different reviews of various wines. We'll use BERT to take those wine reviews, convert the reviews into word embeddings (i.e. vectors) and store those embeddings in AWS S3. With the embeddings stored in S3, we will then use that as our dataset for the Nearest Neighbor algorithm which will in turn be able to accept new user input, create an embedding for it, and find the *K* closest embeddings to that user input. **In essence finding the wines that have a review most similar to the input the user provided.**"
   ]
  },
  {
   "cell_type": "code",
   "execution_count": null,
   "id": "a5e7356b",
   "metadata": {},
   "outputs": [],
   "source": [
    "!pip install sentence_transformers\n",
    "!pip install nvidia-ml-py3\n",
    "\n",
    "!pip install nb_black\n",
    "%load_ext nb_black"
   ]
  },
  {
   "cell_type": "code",
   "execution_count": null,
   "id": "81e12a87",
   "metadata": {},
   "outputs": [],
   "source": [
    "import os\n",
    "import tarfile\n",
    "import json\n",
    "import time\n",
    "import pandas as pd\n",
    "import boto3\n",
    "import joblib\n",
    "import sagemaker\n",
    "from time import gmtime, strftime\n",
    "from sagemaker import get_execution_role\n",
    "from sagemaker.amazon.amazon_estimator import image_uris\n",
    "from sagemaker.serializers import JSONSerializer\n",
    "from sagemaker.deserializers import JSONDeserializer\n",
    "from sentence_transformers import SentenceTransformer\n",
    "from sagemaker.sklearn import SKLearnModel\n",
    "from sagemaker.pytorch import PyTorch, PyTorchModel\n",
    "from sagemaker.predictor import Predictor\n",
    "from sagemaker.inputs import TrainingInput\n",
    "from sklearn.neighbors import NearestNeighbors\n",
    "from sagemaker.pipeline import PipelineModel\n",
    "\n",
    "# Preprocessing\n",
    "import nltk\n",
    "from nltk.corpus import stopwords\n",
    "from nltk.stem import WordNetLemmatizer\n",
    "from string import punctuation\n",
    "\n",
    "from tqdm.notebook import tqdm\n",
    "\n",
    "tqdm.pandas()\n",
    "\n",
    "nltk.download(\"stopwords\")\n",
    "nltk.download(\"punkt\")\n",
    "nltk.download(\"wordnet\")\n",
    "\n",
    "print(f\"SageMaker SDK Version: {sagemaker.__version__}\")"
   ]
  },
  {
   "cell_type": "markdown",
   "id": "5e37e79c",
   "metadata": {},
   "source": [
    "### Setup\n",
    "\n",
    "Let's start by specifying:\n",
    "\n",
    "- The S3 buckets and prefixes that you want to use for saving model data and where training data is located. These should be within the same region as the Notebook Instance, training, and hosting.\n",
    "- The IAM role ARN used to give SageMaker access to your data. It can be fetched using the **get_execution_role** method from sagemaker python SDK."
   ]
  },
  {
   "cell_type": "code",
   "execution_count": null,
   "id": "664312c0",
   "metadata": {},
   "outputs": [],
   "source": [
    "role = get_execution_role()\n",
    "\n",
    "# bucket = \"<S3_BUCKET>\"\n",
    "# prefix = \"<S3_KEY_PREFIX>\"\n",
    "# filename = \"<DATASET_FILENAME>\"\n",
    "\n",
    "bucket = \"wineinamillion\"\n",
    "prefix = \"data/\"\n",
    "filename = \"winemag-data-130k-v2.csv\"\n",
    "\n",
    "assert bucket != \"<S3_BUCKET>\"\n",
    "assert prefix != \"<S3_KEY_PREFIX>\"\n",
    "assert filename != \"<DATASET_FILENAME>\"\n",
    "\n",
    "raw_data_location = f\"s3://{bucket}/{prefix}raw/{filename}\""
   ]
  },
  {
   "cell_type": "markdown",
   "id": "c5745d2a",
   "metadata": {},
   "source": [
    "### Download the dataset from Kaggle (requires Kaggle account)"
   ]
  },
  {
   "cell_type": "code",
   "execution_count": null,
   "id": "2f10de47",
   "metadata": {},
   "outputs": [],
   "source": [
    "# https://www.analyticsvidhya.com/blog/2021/04/how-to-download-kaggle-datasets-using-jupyter-notebook/\n",
    "!pip install opendatasets\n",
    "import opendatasets as od\n",
    "od.download(\"https://www.kaggle.com/zynicide/wine-reviews\")\n",
    "inputs = boto3.resource(\"s3\").Bucket(bucket).upload_file(f\"wine-reviews/{filename}\", f\"{prefix}raw/{filename}\")"
   ]
  },
  {
   "cell_type": "markdown",
   "id": "03d1ac45",
   "metadata": {},
   "source": [
    "To make sure everything worked correctly, we can read the data into a Pandas dataframe directly from S3 and then use the describe method to give us a summary of our data.  It'll kinda be nonsense but lets us know it was at least able to pull the data."
   ]
  },
  {
   "cell_type": "code",
   "execution_count": null,
   "id": "2cc3e6bf",
   "metadata": {
    "scrolled": true
   },
   "outputs": [],
   "source": [
    "df = pd.read_csv(raw_data_location)\n",
    "df.describe()"
   ]
  },
  {
   "cell_type": "markdown",
   "id": "0cad2cf1",
   "metadata": {},
   "source": [
    "We can use `head()` to give us a little sample of the dataset as a whole."
   ]
  },
  {
   "cell_type": "code",
   "execution_count": null,
   "id": "4412c38f",
   "metadata": {},
   "outputs": [],
   "source": [
    "df.head(5)"
   ]
  },
  {
   "cell_type": "markdown",
   "id": "6f081c6f",
   "metadata": {},
   "source": [
    "And we can take a look at one of the descriptions to get a better idea of what they look like"
   ]
  },
  {
   "cell_type": "code",
   "execution_count": null,
   "id": "12d58698",
   "metadata": {},
   "outputs": [],
   "source": [
    "print(df[\"description\"][0])"
   ]
  },
  {
   "cell_type": "markdown",
   "id": "4f45c1f4",
   "metadata": {},
   "source": [
    "# Preprocess & Clean Data\n",
    "\n",
    "When training large models with huge amounts of data, you'll typically use big data tools, like Amazon Athena, AWS Glue, or Amazon EMR, to create your data in S3. Fortunately, we aren't using *too* much data so we can use the tools provided by the SageMaker Python SDK to clearn and upload the data to a default bucket."
   ]
  },
  {
   "cell_type": "code",
   "execution_count": null,
   "id": "b8e5855a",
   "metadata": {},
   "outputs": [],
   "source": [
    "def clean_data(desc):\n",
    "    words = stopwords.words('english')\n",
    "    lower = \" \".join([w for w in desc.lower().split() if not w in words])\n",
    "    punct = ''.join(ch for ch in lower if ch not in punctuation)\n",
    "    wordnet_lemmatizer = WordNetLemmatizer()\n",
    "\n",
    "    word_tokens = nltk.word_tokenize(punct)\n",
    "    lemmatized_word = [wordnet_lemmatizer.lemmatize(word) for word in word_tokens]\n",
    "\n",
    "    word_joined = \" \".join(lemmatized_word)\n",
    "    \n",
    "    return word_joined\n",
    "    \n",
    "\n",
    "df['clean_desc'] = df[\"description\"].apply(clean_data)\n",
    "\n",
    "print(df['clean_desc'].head(5))"
   ]
  },
  {
   "cell_type": "markdown",
   "id": "e4a4d675",
   "metadata": {},
   "source": [
    "After cleaning the dataset, we upload the cleaned version to s3 for later steps."
   ]
  },
  {
   "cell_type": "code",
   "execution_count": null,
   "id": "9ef5633b",
   "metadata": {},
   "outputs": [],
   "source": [
    "# Upload the preprocessed dataset to S3\n",
    "df.to_csv(\"cleaned_dataset.csv\")\n",
    "clean_data_location = f\"{prefix}clean/cleaned_dataset.csv\"\n",
    "inputs = boto3.resource(\"s3\").Bucket(bucket).upload_file('cleaned_dataset.csv', clean_data_location)"
   ]
  },
  {
   "cell_type": "markdown",
   "id": "5217cb44",
   "metadata": {},
   "source": [
    "\n",
    "# Sentence-BERT Embeddings\n",
    "\n",
    "There is a Python library called **`sentence-transformers`** that provides an easy method to compute dense vector representations for **sentences**, **paragraphs**, and **images**. The models are based on transformer networks like BERT / RoBERTa / XLM-RoBERTa etc. and achieve state-of-the-art performance in various task. Text is embedding in vector space such that similar text is close and can efficiently be found using cosine similarity.\n",
    "\n",
    "The sentence tranformer we'll use is \"sentence-transformers/all-MiniLM-L6-v2\" which is fairly generic but should work if accuracy isn't the number one priority. Downloading this model returns a folder of stuff which we'll need to save to s3 and bundle somehow in order to use SageMaker to host our model. \n",
    "\n",
    "Check out the full list of sentence tranformers on HuggingFace: [https://huggingface.co/sentence-transformers](https://huggingface.co/sentence-transformers)"
   ]
  },
  {
   "cell_type": "code",
   "execution_count": null,
   "id": "37f106df",
   "metadata": {},
   "outputs": [],
   "source": [
    "# Save the model to disk which we will host at sagemaker\n",
    "\n",
    "model_name = 'sentence-transformers/all-MiniLM-L6-v2'\n",
    "\n",
    "saved_model_dir = 'transformer'\n",
    "if not os.path.isdir(saved_model_dir):\n",
    "    os.makedirs(saved_model_dir)\n",
    "\n",
    "model = SentenceTransformer(model_name)\n",
    "model.save(saved_model_dir)\n",
    "\n",
    "embeddings = model.encode(df[\"clean_desc\"][0])\n",
    "print(len(embeddings))"
   ]
  },
  {
   "cell_type": "markdown",
   "id": "01fc7e1c",
   "metadata": {},
   "source": [
    "SageMaker wants our models to be gzipped so we'll go ahead and do that before uploading to s3."
   ]
  },
  {
   "cell_type": "code",
   "execution_count": null,
   "id": "6e7ff7b2",
   "metadata": {},
   "outputs": [],
   "source": [
    "# Zip the model .gz format and upload to s3\n",
    "\n",
    "export_dir = 'transformer'\n",
    "with tarfile.open('model.tar.gz', mode='w:gz') as archive:\n",
    "    archive.add(export_dir, recursive=True)\n",
    "\n",
    "\n",
    "#Upload the model to S3\n",
    "boto3.Session().resource(\"s3\").Bucket(bucket).upload_file('model.tar.gz', 'model/transformer/model.tar.gz')"
   ]
  },
  {
   "cell_type": "markdown",
   "id": "c5664893",
   "metadata": {},
   "source": [
    "# Generate Initial Embeddings\n",
    "\n",
    "TODO: Move this into a train script and create PyTorch training job \n",
    "\n",
    "**[WARNING]** This step will cost some money 💰\n"
   ]
  },
  {
   "cell_type": "code",
   "execution_count": null,
   "id": "631413cd",
   "metadata": {},
   "outputs": [],
   "source": [
    "# Generates embeddings from the model\n",
    "# TODO: Move this into a training scripts (https://sagemaker.readthedocs.io/en/stable/frameworks/pytorch/using_pytorch.html#prepare-a-pytorch-training-script)\n",
    "embeddings = []\n",
    "for i in tqdm(range(len(df[\"clean_desc\"])-100,len(df[\"clean_desc\"]))):\n",
    "    vector = model.encode([df[\"clean_desc\"][i]])\n",
    "    embeddings.append(vector)\n",
    "    \n",
    "embeddings_flattened = list(map(lambda x:x[0], embeddings))\n",
    "embeddings_df = pd.DataFrame(embeddings_flattened)"
   ]
  },
  {
   "cell_type": "code",
   "execution_count": null,
   "id": "dd5a49d0",
   "metadata": {},
   "outputs": [],
   "source": [
    "#write embeddings to csv\n",
    "embeddings_df.to_csv('embeddings.csv.gz', compression='gzip')"
   ]
  },
  {
   "cell_type": "code",
   "execution_count": null,
   "id": "a4a53971",
   "metadata": {},
   "outputs": [],
   "source": [
    "# Upload the embeddings to S3\n",
    "embeddings_location = (\n",
    "    boto3.Session()\n",
    "    .resource(\"s3\")\n",
    "    .Bucket(bucket)\n",
    "    .upload_file(\"embeddings.csv.gz\", \"model/embeddings/embeddings.csv.gz\")\n",
    ")\n",
    "\n",
    "print(embeddings_location)"
   ]
  },
  {
   "cell_type": "code",
   "execution_count": null,
   "id": "1576f09d",
   "metadata": {},
   "outputs": [],
   "source": [
    "# need to have the embeddings as a tarball in s3\n",
    "embeddings_location = f\"s3://{bucket}/embeddings.csv.gz\"\n",
    "df = pd.read_csv(embeddings_location)\n",
    "df.head(1)"
   ]
  },
  {
   "cell_type": "markdown",
   "id": "294c13d5",
   "metadata": {},
   "source": [
    "# Create Embedding Model\n",
    "\n",
    "Under the hood, the **`sentence-transformers`**  library uses PyTorch so when we go to make our model, we're using SageMaker's `PyTorchModel` .\n",
    "\n",
    "To see the full docs for the PyTorch Model, see here: [https://sagemaker.readthedocs.io/en/stable/frameworks/pytorch/](https://sagemaker.readthedocs.io/en/stable/frameworks/pytorch/)"
   ]
  },
  {
   "cell_type": "code",
   "execution_count": null,
   "id": "b6942cb4",
   "metadata": {},
   "outputs": [],
   "source": [
    "embeddings_model = PyTorchModel(\n",
    "    model_data=f\"s3://{bucket}/model/transformer/model.tar.gz\",\n",
    "    role = role, \n",
    "    entry_point ='encode_inference.py',\n",
    "    source_dir = './src', \n",
    "    framework_version = '1.9.0',\n",
    "    py_version = 'py38',\n",
    "    sagemaker_session=sagemaker.Session(),\n",
    ")"
   ]
  },
  {
   "cell_type": "markdown",
   "id": "07c70347",
   "metadata": {},
   "source": [
    "### Creating and Testing Embedding Endpoint\n",
    "\n",
    "After training, we use the `PyTorchModel` object to build and deploy a `PyTorchPredictor`. This creates a Sagemaker Endpoint - a hosted prediction service that we can use to perform inference.\n",
    "\n",
    "We have implementation of `model_fn` , `input_fn`,  `predict_fn`, and  `output_fn` in the `encoding_inference.py` script that is required. We are going to use default implementations of  and `transform_fn` defined in [sagemaker-pytorch-containers](https://github.com/aws/sagemaker-pytorch-containers).\n",
    "\n",
    "The serializer and deserializer configure the `ContentType` field and the `Accept` field which in our case is both `application/json` . The `ContentType` field configures the first container, while the `Accept` field configures the last container. You can also specify each container'sHere we just grab the first line from the test data (you'll notice that the inference python script is very particular about the ordering of the inference request data). `Accept` and `ContentType` values using environment variables.\n",
    "\n",
    "The arguments to the deploy function allow us to set the number and type of instances that will be used for the Endpoint. These do not need to be the same as the values we used for the training job. For example, you can train a model on a set of GPU-based instances, and then deploy the Endpoint to a fleet of CPU-based instances. Here we will deploy the model to a single `ml.m4.xlarge` instance."
   ]
  },
  {
   "cell_type": "code",
   "execution_count": null,
   "id": "8bc77330",
   "metadata": {},
   "outputs": [],
   "source": [
    "timestamp_prefix = strftime(\"%Y-%m-%d-%H-%M-%S\", gmtime())\n",
    "embeddings_endpoint_name = \"embeddings-model-ep-\" + timestamp_prefix\n",
    "\n",
    "embedding_predictor = embeddings_model.deploy(\n",
    "    instance_type='ml.m4.xlarge',\n",
    "    initial_instance_count=1,\n",
    "    endpoint_name=embeddings_endpoint_name,\n",
    "    serializer=JSONSerializer(),\n",
    "    deserializer=JSONDeserializer(),\n",
    ")"
   ]
  },
  {
   "cell_type": "code",
   "execution_count": null,
   "id": "70ff1bee",
   "metadata": {},
   "outputs": [],
   "source": [
    "# test_payload = {'data': 'sweet wine with a hint of tartness'}\n",
    "# test_features = embeddings_predictor.predict(test_payload)\n",
    "# test_embedding = json.loads(test_features)\n",
    "\n",
    "# len(test_embedding)\n",
    "\n",
    "test_embedding = embedding_predictor.predict(\n",
    "    {\"data\": \"sweet wine with a hint of tartness\"}\n",
    ")\n",
    "print(len(test_embedding[\"embeddings\"]))"
   ]
  },
  {
   "cell_type": "markdown",
   "id": "aa195a0b",
   "metadata": {},
   "source": [
    "\n",
    "\n",
    "# Nearest Neighbors Model \"Training\"\n",
    "\n",
    "As mentioned before, Neighbors-based methods are known as *non-generalizing* machine learning methods, since they simply “remember” all of its training data. The API for it is still the same as any other model (i.e. we'll still call `fit` to give the model our dataset) but there isn't actually any fitting or training going on. In our case, we'll pull the embeddings from s3 and that'll be our input dataset.\n",
    "\n",
    "The full user guide for sklearn's `NearestNeighbors` class is available here: [https://scikit-learn.org/stable/modules/generated/sklearn.neighbors.NearestNeighbors.html](https://scikit-learn.org/stable/modules/generated/sklearn.neighbors.NearestNeighbors.html)"
   ]
  },
  {
   "cell_type": "code",
   "execution_count": null,
   "id": "7e57812f",
   "metadata": {},
   "outputs": [],
   "source": [
    "# This is only a caching sort of step.  Instead of regenerating on subsequent runs, this can be run to pull the intermediary data from s3\n",
    "embeddings_df = pd.read_csv(f\"s3://{bucket}/model/embeddings/embeddings.csv.gz\")"
   ]
  },
  {
   "cell_type": "code",
   "execution_count": null,
   "id": "b51adcb1",
   "metadata": {},
   "outputs": [],
   "source": [
    "embeddings_df = embeddings_df[:-1]\n",
    "\n",
    "embeddings_df.tail(5)\n",
    "del embeddings_df[\"embeddings.csv\"]\n",
    "embeddings_df.tail(5)"
   ]
  },
  {
   "cell_type": "markdown",
   "id": "a9258d52",
   "metadata": {},
   "source": [
    "Sklearn bundles models into a joblib file which needs to be gzipped for SageMaker. "
   ]
  },
  {
   "cell_type": "code",
   "execution_count": null,
   "id": "4b9ee460",
   "metadata": {},
   "outputs": [],
   "source": [
    "neigh = NearestNeighbors(n_neighbors=5)\n",
    "neigh.fit(embeddings_df)\n",
    "\n",
    "joblib.dump(neigh, \"model.joblib\")\n",
    "with tarfile.open(\"model.joblib.tar.gz\", mode=\"w:gz\") as archive:\n",
    "    archive.add(\"model.joblib\")\n",
    "\n",
    "inputs = (\n",
    "    boto3.resource(\"s3\")\n",
    "    .Bucket(bucket)\n",
    "    .upload_file(\"model.joblib.tar.gz\", \"model/nn/model.joblib.tar.gz\")\n",
    ")"
   ]
  },
  {
   "cell_type": "markdown",
   "id": "9c961b60",
   "metadata": {},
   "source": [
    "# Nearest Neighbors Model Creation\n",
    "\n",
    "To see the full docs for the SKLearn Model, see here:  https://sagemaker.readthedocs.io/en/stable/frameworks/sklearn/"
   ]
  },
  {
   "cell_type": "code",
   "execution_count": null,
   "id": "8a212115",
   "metadata": {},
   "outputs": [],
   "source": [
    "timestamp_prefix = strftime(\"%Y-%m-%d-%H-%M-%S\", gmtime())\n",
    "\n",
    "nn_endpoint_name = \"nn-model-ep-\" + timestamp_prefix\n",
    "\n",
    "nn_model = SKLearnModel(\n",
    "    model_data=f\"s3://{bucket}/model/nn/model.joblib.tar.gz\",\n",
    "    role=role,\n",
    "    entry_point=\"src/nn_inference.py\",\n",
    "    framework_version=\"0.23-1\",\n",
    "    sagemaker_session=sagemaker.Session(),\n",
    ")"
   ]
  },
  {
   "cell_type": "markdown",
   "id": "b2d24687",
   "metadata": {},
   "source": [
    "Similar to the PyTorchModel above, after training, we use the SKLearnModel object to build and deploy a SKLearnPredictor. "
   ]
  },
  {
   "cell_type": "code",
   "execution_count": null,
   "id": "78c9c06a",
   "metadata": {
    "scrolled": true
   },
   "outputs": [],
   "source": [
    "nn_predictor = nn_model.deploy(\n",
    "    instance_type=\"ml.m4.xlarge\",\n",
    "    initial_instance_count=1,\n",
    "    endpoint_name=nn_endpoint_name,\n",
    ")"
   ]
  },
  {
   "cell_type": "code",
   "execution_count": null,
   "id": "5787aa7b",
   "metadata": {},
   "outputs": [],
   "source": [
    "predictor = Predictor(\n",
    "    endpoint_name=nn_endpoint_name,\n",
    "    sagemaker_session=sagemaker.Session(),\n",
    "    serializer=JSONSerializer(),\n",
    "    deserializer=JSONDeserializer(),\n",
    ")\n",
    "\n",
    "prediction = predictor.predict(\n",
    "    {\"embeddings\": test_embedding[\"embeddings\"], \"kneighbors\": 5}\n",
    ")\n",
    "print(prediction)\n",
    "# zipped = list(\n",
    "#     zip(\n",
    "#         prediction[\"recommendations\"][\"neighbors\"][0],\n",
    "#         prediction[\"recommendations\"][\"distance\"][0],\n",
    "#     )\n",
    "# )\n"
   ]
  },
  {
   "cell_type": "markdown",
   "id": "081b5894",
   "metadata": {},
   "source": [
    "\n",
    "# Inference Pipeline\n",
    "\n",
    "Setting up a Machine Learning pipeline can be done with the `PipelineModel`. This sets up a list of models in a single endpoint; in this example, we configure our pipeline model with the BERT embedding model and the fitted Scikit-learn Nearest Neighbors inference model. Deploying the model follows the same `deploy` pattern in the SDK\n",
    "\n",
    "Inference Pipeline documentation is located here: [https://sagemaker.readthedocs.io/en/stable/api/inference/pipeline.html](https://sagemaker.readthedocs.io/en/stable/api/inference/pipeline.html)"
   ]
  },
  {
   "cell_type": "code",
   "execution_count": null,
   "id": "d6aece32",
   "metadata": {},
   "outputs": [],
   "source": [
    "timestamp_prefix = strftime(\"%Y-%m-%d-%H-%M-%S\", gmtime())\n",
    "endpoint_name = \"inference-pipeline-ep-\" + timestamp_prefix\n",
    "pipeline_model = PipelineModel(\n",
    "    role=role, \n",
    "    models=[\n",
    "        embeddings_model, \n",
    "        nn_model\n",
    "    ],\n",
    "    sagemaker_session=sagemaker.Session(),\n",
    ")\n"
   ]
  },
  {
   "cell_type": "markdown",
   "id": "2b5b02ca",
   "metadata": {},
   "source": [
    "### Hosting"
   ]
  },
  {
   "cell_type": "code",
   "execution_count": null,
   "id": "fe7301d8",
   "metadata": {},
   "outputs": [],
   "source": [
    "inference_pipeline = pipeline_model.deploy(\n",
    "    initial_instance_count=1,\n",
    "    instance_type=\"ml.m4.xlarge\",\n",
    "    endpoint_name=endpoint_name,\n",
    "    serializer=JSONSerializer(),\n",
    "    deserializer=JSONDeserializer(),\n",
    ")"
   ]
  },
  {
   "cell_type": "code",
   "execution_count": null,
   "id": "4262ecc8",
   "metadata": {},
   "outputs": [],
   "source": [
    "pipeline_predictor = Predictor(\n",
    "    endpoint_name=endpoint_name,\n",
    "    sagemaker_session=sagemaker.Session(),\n",
    "    serializer=JSONSerializer(),\n",
    "    deserializer=JSONDeserializer(),\n",
    ")"
   ]
  },
  {
   "cell_type": "markdown",
   "id": "6e58e978",
   "metadata": {},
   "source": [
    "# Test Pipeline\n",
    "\n",
    "We make our request with the payload in 'application/json' format, since that is what our script currently supports. If other formats need to be supported, this would have to be added to the output_fn() method in our entry point. The prediction output in this case is trying to guess the wines with the most similar reviews to the one inputted."
   ]
  },
  {
   "cell_type": "code",
   "execution_count": null,
   "id": "d9ae0c7f",
   "metadata": {},
   "outputs": [],
   "source": [
    "test_payload = json.dumps({\"data\": \"sweet wine with a hint of tartness\"})\n",
    "test_response = pipeline_predictor.predict(data=test_payload)\n",
    "# test_recommendations = json.loads(test_response)\n",
    "\n",
    "print(test_recommentations)"
   ]
  },
  {
   "cell_type": "markdown",
   "id": "d4fdc02b",
   "metadata": {},
   "source": [
    "# Clean Up\n",
    "\n",
    "Finally, we should delete the model and endpoint before we close the notebook."
   ]
  },
  {
   "cell_type": "code",
   "execution_count": null,
   "id": "3703ebbb",
   "metadata": {},
   "outputs": [],
   "source": [
    "# Delete model\n",
    "embeddings_model.delete_model()\n",
    "nn_model.delete_model()\n",
    "pipeline_predictor.delete_model()\n",
    "\n",
    "# Delete endpoint and endpoint configuration\n",
    "embeddings_predictor.delete_predictor()\n",
    "nn_predictor.delete_predictor()\n",
    "pipeline_predictor.delete_predictor()"
   ]
  }
 ],
 "metadata": {
  "kernelspec": {
   "display_name": "Python 3 (ipykernel)",
   "language": "python",
   "name": "python3"
  },
  "language_info": {
   "codemirror_mode": {
    "name": "ipython",
    "version": 3
   },
   "file_extension": ".py",
   "mimetype": "text/x-python",
   "name": "python",
   "nbconvert_exporter": "python",
   "pygments_lexer": "ipython3",
   "version": "3.9.5"
  }
 },
 "nbformat": 4,
 "nbformat_minor": 5
}
