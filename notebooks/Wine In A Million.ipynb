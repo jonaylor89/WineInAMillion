{
 "cells": [
  {
   "cell_type": "markdown",
   "id": "c410a518",
   "metadata": {},
   "source": [
    "\n",
    "# Wine in a Million\n",
    "\n",
    "### Authors: __[Zephyr Headley](https://github.com/jzheadley)__ and __[John Naylor](https://jonaylor.xyz)__\n",
    "\n",
    "[![Open In SageMaker Studio Lab](https://studiolab.sagemaker.aws/studiolab.svg)](https://studiolab.sagemaker.aws/import/github/jonaylor89/WineInAMillion/blob/main/notebooks/Wine%20In%20A%20Million.ipynb)\n",
    "\n"
   ]
  },
  {
   "cell_type": "code",
   "execution_count": null,
   "id": "a5e7356b",
   "metadata": {},
   "outputs": [],
   "source": [
    "!pip install sentence_transformers\n",
    "!pip install nvidia-ml-py3\n",
    "\n",
    "!pip install nb_black\n",
    "%load_ext nb_black"
   ]
  },
  {
   "cell_type": "code",
   "execution_count": null,
   "id": "81e12a87",
   "metadata": {},
   "outputs": [],
   "source": [
    "\n",
    "import os\n",
    "import tarfile\n",
    "import json\n",
    "import time\n",
    "import pandas as pd\n",
    "import boto3\n",
    "import joblib\n",
    "import sagemaker\n",
    "from time import gmtime, strftime\n",
    "from sagemaker import get_execution_role\n",
    "from sagemaker.amazon.amazon_estimator import image_uris\n",
    "from sagemaker.serializers import JSONSerializer\n",
    "from sagemaker.deserializers import JSONDeserializer\n",
    "from sentence_transformers import SentenceTransformer\n",
    "from sagemaker.sklearn import SKLearnModel\n",
    "from sagemaker.pytorch import PyTorch, PyTorchModel\n",
    "from sagemaker.predictor import Predictor\n",
    "from sagemaker.inputs import TrainingInput\n",
    "from sklearn.neighbors import NearestNeighbors\n",
    "from sagemaker.pipeline import PipelineModel\n",
    "\n",
    "# Preprocessing\n",
    "import nltk\n",
    "from nltk.corpus import stopwords\n",
    "from nltk.stem import WordNetLemmatizer\n",
    "from string import punctuation\n",
    "\n",
    "from tqdm.notebook import tqdm\n",
    "\n",
    "tqdm.pandas()\n",
    "\n",
    "nltk.download(\"stopwords\")\n",
    "nltk.download(\"punkt\")\n",
    "nltk.download(\"wordnet\")\n",
    "\n",
    "print(f\"SageMaker SDK Version: {sagemaker.__version__}\")"
   ]
  },
  {
   "cell_type": "code",
   "execution_count": null,
   "id": "664312c0",
   "metadata": {},
   "outputs": [],
   "source": [
    "role = get_execution_role()\n",
    "\n",
    "# bucket = \"<S3_BUCKET>\"\n",
    "# prefix = \"<S3_KEY_PREFIX>\"\n",
    "# filename = \"<DATASET_FILENAME>\"\n",
    "\n",
    "bucket = \"wineinamillion\"\n",
    "prefix = \"data/\"\n",
    "filename = \"winemag-data-130k-v2.csv\"\n",
    "\n",
    "assert bucket != \"<S3_BUCKET>\"\n",
    "assert prefix != \"<S3_KEY_PREFIX>\"\n",
    "assert filename != \"<DATASET_FILENAME>\"\n",
    "\n",
    "raw_data_location = f\"s3://{bucket}/{prefix}raw/{filename}\""
   ]
  },
  {
   "cell_type": "code",
   "execution_count": null,
   "id": "2f10de47",
   "metadata": {},
   "outputs": [],
   "source": [
    "# https://www.analyticsvidhya.com/blog/2021/04/how-to-download-kaggle-datasets-using-jupyter-notebook/\n",
    "!pip install opendatasets\n",
    "import opendatasets as od\n",
    "od.download(\"https://www.kaggle.com/zynicide/wine-reviews\")\n",
    "inputs = boto3.resource(\"s3\").Bucket(bucket).upload_file(f\"wine-reviews/{filename}\", f\"{prefix}raw/{filename}\")"
   ]
  },
  {
   "cell_type": "code",
   "execution_count": null,
   "id": "2cc3e6bf",
   "metadata": {
    "scrolled": true
   },
   "outputs": [],
   "source": [
    "df = pd.read_csv(raw_data_location)\n",
    "df.describe()"
   ]
  },
  {
   "cell_type": "code",
   "execution_count": null,
   "id": "4412c38f",
   "metadata": {},
   "outputs": [],
   "source": [
    "df.head(5)"
   ]
  },
  {
   "cell_type": "code",
   "execution_count": null,
   "id": "12d58698",
   "metadata": {},
   "outputs": [],
   "source": [
    "print(df[\"description\"][0])"
   ]
  },
  {
   "cell_type": "markdown",
   "id": "4f45c1f4",
   "metadata": {},
   "source": [
    "# Preprocess Dataframe & Clean Data"
   ]
  },
  {
   "cell_type": "code",
   "execution_count": null,
   "id": "b8e5855a",
   "metadata": {},
   "outputs": [],
   "source": [
    "def clean_data(desc):\n",
    "    words = stopwords.words('english')\n",
    "    lower = \" \".join([w for w in desc.lower().split() if not w in words])\n",
    "    punct = ''.join(ch for ch in lower if ch not in punctuation)\n",
    "    wordnet_lemmatizer = WordNetLemmatizer()\n",
    "\n",
    "    word_tokens = nltk.word_tokenize(punct)\n",
    "    lemmatized_word = [wordnet_lemmatizer.lemmatize(word) for word in word_tokens]\n",
    "\n",
    "    word_joined = \" \".join(lemmatized_word)\n",
    "    \n",
    "    return word_joined\n",
    "    \n",
    "\n",
    "df['clean_desc'] = df[\"description\"].apply(clean_data)\n",
    "\n",
    "print(df['clean_desc'].head(5))"
   ]
  },
  {
   "cell_type": "code",
   "execution_count": null,
   "id": "9ef5633b",
   "metadata": {},
   "outputs": [],
   "source": [
    "# Upload the preprocessed dataset to S3\n",
    "df.to_csv(\"cleaned_dataset.csv\")\n",
    "clean_data_location = f\"{prefix}clean/cleaned_dataset.csv\"\n",
    "inputs = boto3.resource(\"s3\").Bucket(bucket).upload_file('cleaned_dataset.csv', clean_data_location)"
   ]
  },
  {
   "cell_type": "markdown",
   "id": "5217cb44",
   "metadata": {},
   "source": [
    "\n",
    "# Sentence-BERT Embeddings\n"
   ]
  },
  {
   "cell_type": "raw",
   "id": "5933c470",
   "metadata": {},
   "source": [
    "@inproceedings{\n",
    "    reimers-2019-sentence-bert,\n",
    "    title = \"Sentence-BERT: Sentence Embeddings using Siamese BERT-Networks\",\n",
    "    author = \"Reimers, Nils and Gurevych, Iryna\",\n",
    "    booktitle = \"Proceedings of the 2019 Conference on Empirical Methods in Natural Language Processing\",\n",
    "    month = \"11\",\n",
    "    year = \"2019\",\n",
    "    publisher = \"Association for Computational Linguistics\",\n",
    "    url = \"http://arxiv.org/abs/1908.10084\",\n",
    "}"
   ]
  },
  {
   "cell_type": "code",
   "execution_count": null,
   "id": "37f106df",
   "metadata": {},
   "outputs": [],
   "source": [
    "# Save the model to disk which we will host at sagemaker\n",
    "\n",
    "model_name = 'sentence-transformers/all-MiniLM-L6-v2'\n",
    "\n",
    "saved_model_dir = 'transformer'\n",
    "if not os.path.isdir(saved_model_dir):\n",
    "    os.makedirs(saved_model_dir)\n",
    "\n",
    "model = SentenceTransformer(model_name)\n",
    "model.save(saved_model_dir)\n",
    "\n",
    "embeddings = model.encode(df[\"clean_desc\"][0])\n",
    "print(len(embeddings))"
   ]
  },
  {
   "cell_type": "code",
   "execution_count": null,
   "id": "6e7ff7b2",
   "metadata": {},
   "outputs": [],
   "source": [
    "# Zip the model .gz format and upload to s3\n",
    "\n",
    "export_dir = 'transformer'\n",
    "with tarfile.open('model.tar.gz', mode='w:gz') as archive:\n",
    "    archive.add(export_dir, recursive=True)\n",
    "\n",
    "\n",
    "#Upload the model to S3\n",
    "boto3.Session().resource(\"s3\").Bucket(bucket).upload_file('model.tar.gz', 'model/transformer/model.tar.gz')"
   ]
  },
  {
   "cell_type": "code",
   "execution_count": null,
   "id": "631413cd",
   "metadata": {},
   "outputs": [],
   "source": [
    "# Generates embeddings from the model\n",
    "embeddings = []\n",
    "for i in tqdm(range(len(df[\"clean_desc\"])-100,len(df[\"clean_desc\"]))):\n",
    "    vector = model.encode([df[\"clean_desc\"][i]])\n",
    "    embeddings.append(vector)\n",
    "    \n",
    "embeddings_flattened = list(map(lambda x:x[0], embeddings))\n",
    "embeddings_df = pd.DataFrame(embeddings_flattened)"
   ]
  },
  {
   "cell_type": "code",
   "execution_count": null,
   "id": "dd5a49d0",
   "metadata": {},
   "outputs": [],
   "source": [
    "#write embeddings to csv\n",
    "embeddings_df.to_csv('embeddings.csv.gz', compression='gzip')"
   ]
  },
  {
   "cell_type": "code",
   "execution_count": null,
   "id": "a4a53971",
   "metadata": {},
   "outputs": [],
   "source": [
    "# Upload the embeddings to S3\n",
    "embeddings_location = (\n",
    "    boto3.Session()\n",
    "    .resource(\"s3\")\n",
    "    .Bucket(bucket)\n",
    "    .upload_file(\"embeddings.csv.gz\", \"model/embeddings/embeddings.csv.gz\")\n",
    ")\n",
    "\n",
    "print(embeddings_location)"
   ]
  },
  {
   "cell_type": "code",
   "execution_count": null,
   "id": "1576f09d",
   "metadata": {},
   "outputs": [],
   "source": [
    "# need to have the embeddings as a tarball in s3\n",
    "embeddings_location = f\"s3://{bucket}/embeddings.csv.gz\"\n",
    "df = pd.read_csv(embeddings_location)\n",
    "df.head(1)"
   ]
  },
  {
   "cell_type": "markdown",
   "id": "294c13d5",
   "metadata": {},
   "source": [
    "# Create Embedding Model"
   ]
  },
  {
   "cell_type": "code",
   "execution_count": null,
   "id": "b6942cb4",
   "metadata": {},
   "outputs": [],
   "source": [
    "embeddings_model = PyTorchModel(\n",
    "    model_data=f\"s3://{bucket}/model/transformer/model.tar.gz\",\n",
    "    role = role, \n",
    "    entry_point ='encode_inference.py',\n",
    "    source_dir = './src', \n",
    "    framework_version = '1.9.0',\n",
    "    py_version = 'py38',\n",
    "    sagemaker_session=sagemaker.Session(),\n",
    ")"
   ]
  },
  {
   "cell_type": "markdown",
   "id": "07c70347",
   "metadata": {},
   "source": [
    "### Test Embedding Model"
   ]
  },
  {
   "cell_type": "code",
   "execution_count": null,
   "id": "8bc77330",
   "metadata": {},
   "outputs": [],
   "source": [
    "timestamp_prefix = strftime(\"%Y-%m-%d-%H-%M-%S\", gmtime())\n",
    "embeddings_endpoint_name = \"embeddings-model-ep-\" + timestamp_prefix\n",
    "\n",
    "embedding_predictor = embeddings_model.deploy(\n",
    "    instance_type='ml.m4.xlarge',\n",
    "    initial_instance_count=1,\n",
    "    endpoint_name=embeddings_endpoint_name,\n",
    "    serializer=JSONSerializer(),\n",
    "    deserializer=JSONDeserializer(),\n",
    ")"
   ]
  },
  {
   "cell_type": "code",
   "execution_count": null,
   "id": "70ff1bee",
   "metadata": {},
   "outputs": [],
   "source": [
    "# test_payload = {'data': 'sweet wine with a hint of tartness'}\n",
    "# test_features = embeddings_predictor.predict(test_payload)\n",
    "# test_embedding = json.loads(test_features)\n",
    "\n",
    "# len(test_embedding)\n",
    "\n",
    "test_embedding = embedding_predictor.predict(\n",
    "    {\"data\": \"sweet wine with a hint of tartness\"}\n",
    ")\n",
    "print(len(test_embedding[\"embeddings\"]))"
   ]
  },
  {
   "cell_type": "markdown",
   "id": "aa195a0b",
   "metadata": {},
   "source": [
    "\n",
    "\n",
    "# Nearest Neighbors Model \"Training\"\n"
   ]
  },
  {
   "cell_type": "code",
   "execution_count": null,
   "id": "7e57812f",
   "metadata": {},
   "outputs": [],
   "source": [
    "# This is only a caching sort of step.  Instead of regenerating on subsequent runs, this can be run to pull the intermediary data from s3\n",
    "embeddings_df = pd.read_csv(f\"s3://{bucket}/model/embeddings/embeddings.csv.gz\")"
   ]
  },
  {
   "cell_type": "code",
   "execution_count": null,
   "id": "b51adcb1",
   "metadata": {},
   "outputs": [],
   "source": [
    "embeddings_df = embeddings_df[:-1]\n",
    "\n",
    "embeddings_df.tail(5)\n",
    "del embeddings_df[\"embeddings.csv\"]\n",
    "embeddings_df.tail(5)"
   ]
  },
  {
   "cell_type": "code",
   "execution_count": null,
   "id": "4b9ee460",
   "metadata": {},
   "outputs": [],
   "source": [
    "neigh = NearestNeighbors(n_neighbors=5)\n",
    "neigh.fit(embeddings_df)\n",
    "\n",
    "joblib.dump(neigh, \"model.joblib\")\n",
    "with tarfile.open(\"model.joblib.tar.gz\", mode=\"w:gz\") as archive:\n",
    "    archive.add(\"model.joblib\")\n",
    "\n",
    "inputs = (\n",
    "    boto3.resource(\"s3\")\n",
    "    .Bucket(bucket)\n",
    "    .upload_file(\"model.joblib.tar.gz\", \"model/nn/model.joblib.tar.gz\")\n",
    ")"
   ]
  },
  {
   "cell_type": "markdown",
   "id": "9c961b60",
   "metadata": {},
   "source": [
    "# Nearest Neighbors Model Creation"
   ]
  },
  {
   "cell_type": "code",
   "execution_count": null,
   "id": "8a212115",
   "metadata": {},
   "outputs": [],
   "source": [
    "timestamp_prefix = strftime(\"%Y-%m-%d-%H-%M-%S\", gmtime())\n",
    "\n",
    "nn_endpoint_name = \"nn-model-ep-\" + timestamp_prefix\n",
    "\n",
    "nn_model = SKLearnModel(\n",
    "    model_data=f\"s3://{bucket}/model/nn/model.joblib.tar.gz\",\n",
    "    role=role,\n",
    "    entry_point=\"src/nn_inference.py\",\n",
    "    framework_version=\"0.23-1\",\n",
    "    sagemaker_session=sagemaker.Session(),\n",
    ")"
   ]
  },
  {
   "cell_type": "code",
   "execution_count": null,
   "id": "78c9c06a",
   "metadata": {
    "scrolled": true
   },
   "outputs": [],
   "source": [
    "nn_predictor = nn_model.deploy(\n",
    "    instance_type=\"ml.m4.xlarge\",\n",
    "    initial_instance_count=1,\n",
    "    endpoint_name=nn_endpoint_name,\n",
    ")"
   ]
  },
  {
   "cell_type": "code",
   "execution_count": null,
   "id": "5787aa7b",
   "metadata": {},
   "outputs": [],
   "source": [
    "predictor = Predictor(\n",
    "    endpoint_name=nn_endpoint_name,\n",
    "    sagemaker_session=sagemaker.Session(),\n",
    "    serializer=JSONSerializer(),\n",
    "    deserializer=JSONDeserializer(),\n",
    ")\n",
    "\n",
    "prediction = predictor.predict(\n",
    "    {\"embeddings\": test_embedding[\"embeddings\"], \"kneighbors\": 5}\n",
    ")\n",
    "print(prediction)\n",
    "# zipped = list(\n",
    "#     zip(\n",
    "#         prediction[\"recommendations\"][\"neighbors\"][0],\n",
    "#         prediction[\"recommendations\"][\"distance\"][0],\n",
    "#     )\n",
    "# )\n"
   ]
  },
  {
   "cell_type": "markdown",
   "id": "081b5894",
   "metadata": {},
   "source": [
    "\n",
    "# Inference Pipeline\n"
   ]
  },
  {
   "cell_type": "code",
   "execution_count": null,
   "id": "d6aece32",
   "metadata": {},
   "outputs": [],
   "source": [
    "timestamp_prefix = strftime(\"%Y-%m-%d-%H-%M-%S\", gmtime())\n",
    "endpoint_name = \"inference-pipeline-ep-\" + timestamp_prefix\n",
    "pipeline_model = PipelineModel(\n",
    "    role=role, \n",
    "    models=[\n",
    "        embeddings_model, \n",
    "        nn_model\n",
    "    ],\n",
    "    sagemaker_session=sagemaker.Session(),\n",
    ")\n"
   ]
  },
  {
   "cell_type": "code",
   "execution_count": null,
   "id": "fe7301d8",
   "metadata": {},
   "outputs": [],
   "source": [
    "inference_pipeline = pipeline_model.deploy(\n",
    "    initial_instance_count=1,\n",
    "    instance_type=\"ml.m4.xlarge\",\n",
    "    endpoint_name=endpoint_name,\n",
    "    serializer=JSONSerializer(),\n",
    "    deserializer=JSONDeserializer(),\n",
    ")"
   ]
  },
  {
   "cell_type": "code",
   "execution_count": null,
   "id": "4262ecc8",
   "metadata": {},
   "outputs": [],
   "source": [
    "pipeline_predictor = Predictor(\n",
    "    endpoint_name=endpoint_name,\n",
    "    sagemaker_session=sagemaker.Session(),\n",
    "    serializer=JSONSerializer(),\n",
    "    deserializer=JSONDeserializer(),\n",
    ")"
   ]
  },
  {
   "cell_type": "markdown",
   "id": "6e58e978",
   "metadata": {},
   "source": [
    "# Test Pipeline\n",
    "\n"
   ]
  },
  {
   "cell_type": "code",
   "execution_count": null,
   "id": "d9ae0c7f",
   "metadata": {},
   "outputs": [],
   "source": [
    "test_payload = json.dumps({\"data\": \"sweet wine with a hint of tartness\"})\n",
    "test_response = pipeline_predictor.predict(data=test_payload)\n",
    "# test_recommendations = json.loads(test_response)\n",
    "\n",
    "print(test_recommentations)"
   ]
  },
  {
   "cell_type": "markdown",
   "id": "d4fdc02b",
   "metadata": {},
   "source": [
    "# Clean Up"
   ]
  },
  {
   "cell_type": "code",
   "execution_count": null,
   "id": "3703ebbb",
   "metadata": {},
   "outputs": [],
   "source": [
    "# Delete model\n",
    "embeddings_model.delete_model()\n",
    "nn_model.delete_model()\n",
    "pipeline_predictor.delete_model()\n",
    "\n",
    "# Delete endpoint and endpoint configuration\n",
    "embeddings_predictor.delete_predictor()\n",
    "nn_predictor.delete_predictor()\n",
    "pipeline_predictor.delete_predictor()"
   ]
  }
 ],
 "metadata": {
  "kernelspec": {
   "display_name": "Python 3 (ipykernel)",
   "language": "python",
   "name": "python3"
  },
  "language_info": {
   "codemirror_mode": {
    "name": "ipython",
    "version": 3
   },
   "file_extension": ".py",
   "mimetype": "text/x-python",
   "name": "python",
   "nbconvert_exporter": "python",
   "pygments_lexer": "ipython3",
   "version": "3.9.5"
  }
 },
 "nbformat": 4,
 "nbformat_minor": 5
}
