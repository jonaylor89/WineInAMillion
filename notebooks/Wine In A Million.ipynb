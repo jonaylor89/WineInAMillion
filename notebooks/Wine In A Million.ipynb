{
 "cells": [
  {
   "cell_type": "markdown",
   "id": "13f3fc10",
   "metadata": {},
   "source": [
    "\n",
    "# Wine in a Million\n",
    "\n",
    "### Authors: __[Zephyr Headley](https://github.com/jzheadley)__ and __[John Naylor](https://jonaylor.xyz)__\n"
   ]
  },
  {
   "cell_type": "code",
   "execution_count": null,
   "id": "68dcbace",
   "metadata": {},
   "outputs": [],
   "source": [
    "!pip install sentence_transformers\n",
    "\n",
    "import os\n",
    "import tarfile\n",
    "import json\n",
    "import time\n",
    "import pandas as pd\n",
    "import boto3\n",
    "import sagemaker\n",
    "from sagemaker import get_execution_role\n",
    "from sagemaker.amazon.amazon_estimator import get_image_uri\n",
    "from sentence_transformers import SentenceTransformer\n",
    "from sagemaker.pytorch import PyTorch, PyTorchModel\n",
    "from sagemaker.predictor import RealTimePredictor\n",
    "\n",
    "# Preprocessing\n",
    "import nltk\n",
    "from nltk.corpus import stopwords\n",
    "from nltk.stem import WordNetLemmatizer\n",
    "from string import punctuation \n",
    "\n",
    "nltk.download('stopwords')\n",
    "nltk.download('punkt')\n",
    "nltk.download('wordnet')\n",
    "\n",
    "role = get_execution_role()\n",
    "\n",
    "print(f'SageMaker SDK Version: {sagemaker.__version__}')"
   ]
  },
  {
   "cell_type": "code",
   "execution_count": null,
   "id": "158a72fb",
   "metadata": {},
   "outputs": [],
   "source": [
    "# bucket = \"<S3_BUCKET>\"\n",
    "# prefix = \"<S3_KEY_PREFIX>\"\n",
    "# filename = \"<DATASET_FILENAME>\"\n",
    "\n",
    "bucket = \"winemag-data-wineinamillion-23452\"\n",
    "prefix = \"data/raw/\"\n",
    "filename = \"winemag-data-130k-v2.csv\"\n",
    "\n",
    "assert bucket != \"<S3_BUCKET>\"\n",
    "assert prefix != \"<S3_KEY_PREFIX>\"\n",
    "assert filename != \"<DATASET_FILENAME>\"\n",
    "\n",
    "raw_data_location = f\"s3://{bucket}/{prefix}{filename}\"\""
   ]
  },
  {
   "cell_type": "code",
   "execution_count": null,
   "id": "20ae10bd",
   "metadata": {
    "scrolled": true
   },
   "outputs": [],
   "source": [
    "df = pd.read_csv(raw_data_location)\n",
    "df.describe()"
   ]
  },
  {
   "cell_type": "code",
   "execution_count": null,
   "id": "8e08d713",
   "metadata": {},
   "outputs": [],
   "source": [
    "df.head(5)"
   ]
  },
  {
   "cell_type": "code",
   "execution_count": null,
   "id": "96c58b8b",
   "metadata": {},
   "outputs": [],
   "source": [
    "print(df[\"description\"][0])"
   ]
  },
  {
   "cell_type": "markdown",
   "id": "05df9f06",
   "metadata": {},
   "source": [
    "# Preprocess Dataframe & Clean Data"
   ]
  },
  {
   "cell_type": "code",
   "execution_count": null,
   "id": "a74c08cc",
   "metadata": {},
   "outputs": [],
   "source": [
    "def clean_data(desc):\n",
    "    words = stopwords.words('english')\n",
    "    lower = \" \".join([w for w in desc.lower().split() if not w in words])\n",
    "    punct = ''.join(ch for ch in lower if ch not in punctuation)\n",
    "    wordnet_lemmatizer = WordNetLemmatizer()\n",
    "\n",
    "    word_tokens = nltk.word_tokenize(punct)\n",
    "    lemmatized_word = [wordnet_lemmatizer.lemmatize(word) for word in word_tokens]\n",
    "\n",
    "    word_joined = \" \".join(lemmatized_word)\n",
    "    \n",
    "    return word_joined\n",
    "    \n",
    "\n",
    "\n",
    "df['clean_desc'] = df[\"description\"].apply(clean_data)\n",
    "\n",
    "print(df['clean_desc'].head(5))"
   ]
  },
  {
   "cell_type": "code",
   "execution_count": null,
   "id": "a56eacdb",
   "metadata": {},
   "outputs": [],
   "source": [
    "# Upload the preprocessed dataset to S3\n",
    "df.to_csv(\"cleaned_dataset.csv\")\n",
    "\n",
    "inputs = boto3\n",
    "    .Session()\n",
    "    .resource(\"s3\")\n",
    "    .Bucket(bucket)\n",
    "    .Object(os.path.join(\"data\", \"clean\", \"dataset.csv\"))\n",
    "    .upload_data(path='cleaned_dataset.csv')"
   ]
  },
  {
   "cell_type": "markdown",
   "id": "eb0d128e",
   "metadata": {},
   "source": [
    "\n",
    "# Sentence-BERT Embeddings\n"
   ]
  },
  {
   "cell_type": "raw",
   "id": "88289007",
   "metadata": {},
   "source": [
    "@inproceedings{\n",
    "    reimers-2019-sentence-bert,\n",
    "    title = \"Sentence-BERT: Sentence Embeddings using Siamese BERT-Networks\",\n",
    "    author = \"Reimers, Nils and Gurevych, Iryna\",\n",
    "    booktitle = \"Proceedings of the 2019 Conference on Empirical Methods in Natural Language Processing\",\n",
    "    month = \"11\",\n",
    "    year = \"2019\",\n",
    "    publisher = \"Association for Computational Linguistics\",\n",
    "    url = \"http://arxiv.org/abs/1908.10084\",\n",
    "}"
   ]
  },
  {
   "cell_type": "code",
   "execution_count": null,
   "id": "4ad81199",
   "metadata": {},
   "outputs": [],
   "source": [
    "# Save the model to disk which we will host at sagemaker\n",
    "\n",
    "model_name = 'sentence-transformers/all-MiniLM-L6-v2'\n",
    "\n",
    "saved_model_dir = 'transformer'\n",
    "if not os.path.isdir(saved_model_dir):\n",
    "    os.makedirs(saved_model_dir)\n",
    "\n",
    "model = SentenceTransformer(model_name)\n",
    "model.save(saved_model_dir)\n",
    "\n",
    "embeddings = model.encode(df[\"clean_desc\"][0])\n",
    "print(len(embeddings))"
   ]
  },
  {
   "cell_type": "code",
   "execution_count": null,
   "id": "83e933e4",
   "metadata": {},
   "outputs": [],
   "source": [
    "# Zip the model .gz format and upload to s3\n",
    "\n",
    "export_dir = 'transformer'\n",
    "with tarfile.open('model.tar.gz', mode='w:gz') as archive:\n",
    "    archive.add(export_dir, recursive=True)\n",
    "\n",
    "\n",
    "#Upload the model to S3\n",
    "transformer_location = boto3\n",
    "    .Session()\n",
    "    .resource(\"s3\")\n",
    "    .Bucket(bucket)\n",
    "    .Object(os.path.join(\"model\", \"transformer\", \"model.tar.gz\"))\n",
    "    .upload_data(path='transformer/model.tar.gz')\n",
    "transformer_location"
   ]
  },
  {
   "cell_type": "code",
   "execution_count": null,
   "id": "ffea9b22",
   "metadata": {},
   "outputs": [],
   "source": [
    "# Create Initial Embeddings (this can take a while)\n",
    "def train():\n",
    "    embeddings = []\n",
    "    for i in tqdm.notebook.tqdm(range(len(df[\"clean_desc\"]))):\n",
    "        vector = model.encode([df[\"clean_desc\"][i]])\n",
    "        embeddings.append(vector)\n",
    "        \n",
    "    # WARNING/TODO : KNN doesn't accept json as input so this'll need to be changed\n",
    "    json_str = {\"embeddings\": embeddings}\n",
    "    with open(\"embeddings.json\", \"w\") as f:\n",
    "        json.dump(json_str, f, ident=6)\n",
    "\n",
    "    #Upload the embeddings to S3\n",
    "    embeddings_location = boto3\n",
    "        .Session()\n",
    "        .resource(\"s3\")\n",
    "        .Bucket(bucket)\n",
    "        .Object(os.path.join(\"model\", \"embeddings\", \"embeddings.json\"))\n",
    "        .upload_data(path='embeddings.json')\n",
    "\n",
    "    print(embeddings_location)\n",
    "    return embeddings_location"
   ]
  },
  {
   "cell_type": "code",
   "execution_count": null,
   "id": "593e8be5",
   "metadata": {},
   "outputs": [],
   "source": [
    "# Create Embedding Model\n",
    "\n",
    "class StringPredictor(RealTimePredictor):\n",
    "    def __init__(self, endpoint_name, sagemaker_session):\n",
    "        super(StringPredictor, self).__init__(endpoint_name, sagemaker_session, content_type='text/plain')\n",
    "           \n",
    "\n",
    "embeddings_estimator = PyTorch(\n",
    "    model_data = inputs, \n",
    "    role = role, \n",
    "    entry_point ='train_deploy.py',\n",
    "    source_dir = './src', \n",
    "    framework_version = '1.3.1',\n",
    "    predictor_cls = StringPredictor\n",
    ")\n",
    "\n",
    "embeddings_model = embeddings_estimator.create_model()\n",
    "\n",
    "# embeddings_predictor = pytorch_model.deploy(instance_type='ml.m5.large', initial_instance_count=1)"
   ]
  },
  {
   "cell_type": "code",
   "execution_count": null,
   "id": "49573152",
   "metadata": {},
   "outputs": [],
   "source": [
    "# Test Embedding Model\n",
    "\n",
    "test_payload = 'sweet wine with a hint of tartness'\n",
    "test_features = predictor.predict(test_payload)\n",
    "test_embedding = json.loads(test_features)\n",
    "\n",
    "len(test_embedding)"
   ]
  },
  {
   "cell_type": "markdown",
   "id": "771b4af7",
   "metadata": {},
   "source": [
    "\n",
    "\n",
    "# KNN Section\n"
   ]
  },
  {
   "cell_type": "code",
   "execution_count": null,
   "id": "77524c0c",
   "metadata": {},
   "outputs": [],
   "source": [
    "# Set up the estimator\n",
    " \n",
    "hyperparams = {\n",
    "    \"feature_dim\": 384, \n",
    "    \"k\": 5, \n",
    "    \"sample_size\": 200000, \n",
    "    \"predictor_type\": \"classifier\"\n",
    "}\n",
    "output_path = f\"s3://{bucket}/knn/output\"\n",
    "\n",
    "knn = sagemaker.estimator.Estimator(\n",
    "    get_image_uri(boto3.Session().region_name, \"knn\"),\n",
    "    get_execution_role(),\n",
    "    instance_count=1,\n",
    "    instance_type=\"ml.m5.2xlarge\",\n",
    "    output_path=output_path,\n",
    "    sagemaker_session=sagemaker.Session(),\n",
    ")\n",
    "knn.set_hyperparameters(**hyperparams)"
   ]
  },
  {
   "cell_type": "code",
   "execution_count": null,
   "id": "6ee35669",
   "metadata": {},
   "outputs": [],
   "source": [
    "# Train a model. fit_input contains the locations of the train and test data\n",
    "\n",
    "s3_train_data = \"s3://model/embeddings/embeddings.json\"\n",
    "s3_test_data = None\n",
    "\n",
    "fit_input = {\"train\": s3_train_data}\n",
    "if s3_test_data is not None:\n",
    "    fit_input[\"test\"] = s3_test_data\n",
    "    \n",
    "knn.fit(fit_input)\n",
    "\n",
    "knn_model = knn.create_model()"
   ]
  },
  {
   "cell_type": "code",
   "execution_count": null,
   "id": "5b716e13",
   "metadata": {},
   "outputs": [],
   "source": [
    "# Deploy KNN Predictor\n",
    "\n",
    "# instance_type = \"ml.m4.xlarge\"\n",
    "# model_name = \"knn_%s\" % instance_type\n",
    "# endpoint_name = \"knn-ml-m4-xlarge-%s\" % (str(time.time()).replace(\".\", \"-\"))\n",
    "\n",
    "# print(\"setting up the endpoint..\")\n",
    "\n",
    "#knn_predictor = knn_estimator.deploy(\n",
    "#    initial_instance_count=1, \n",
    "#    instance_type=instance_type, \n",
    "#    endpoint_name=endpoint_name\n",
    "# )\n",
    "# knn_predictor.serializer = CSVSerializer()\n",
    "# knn_predictor.deserializer = JSONDeserializer()"
   ]
  },
  {
   "cell_type": "code",
   "execution_count": null,
   "id": "c130feba",
   "metadata": {},
   "outputs": [],
   "source": [
    "# Test KNN Model\n",
    "batches = np.array_split(test_features, 100)\n",
    "print(f\"data split into 100 batches, of size {batches[0].shape[0]}.\")\n",
    "\n",
    "# obtain an np array with the predictions for the entire test set\n",
    "start_time = time.time()\n",
    "predictions = []\n",
    "for batch in batches:\n",
    "    result = predictor.predict(batch, initial_args={\"ContentType\": \"text/csv\"})\n",
    "    cur_predictions = np.array(\n",
    "        [result[\"predictions\"][i][\"predicted_label\"] for i in range(len(result[\"predictions\"]))]\n",
    "    )\n",
    "    predictions.append(cur_predictions)\n",
    "predictions = np.concatenate(predictions)\n",
    "run_time = time.time() - start_time\n",
    "\n",
    "test_size = test_labels.shape[0]\n",
    "num_correct = sum(predictions == test_labels)\n",
    "accuracy = num_correct / float(test_size)\n",
    "print(\"time required for predicting %d data point: %.2f seconds\" % (test_size, run_time))\n",
    "print(\"accuracy of model: %.1f%%\" % (accuracy * 100))"
   ]
  },
  {
   "cell_type": "markdown",
   "id": "d4a9827a",
   "metadata": {},
   "source": [
    "\n",
    "# Inference Pipeline\n"
   ]
  },
  {
   "cell_type": "code",
   "execution_count": null,
   "id": "af9d1fef",
   "metadata": {},
   "outputs": [],
   "source": [
    "\n",
    "timestamp_prefix = strftime(\"%Y-%m-%d-%H-%M-%S\", time.gmtime())\n",
    "\n",
    "model_name = \"inference-pipeline-\" + timestamp_prefix\n",
    "endpoint_name = \"inference-pipeline-ep-\" + timestamp_prefix\n",
    "pipeline_model = PipelineModel(\n",
    "    name=model_name, \n",
    "    role=role, \n",
    "    models=[\n",
    "        embedding_model, \n",
    "        knn_model\n",
    "    ]\n",
    ")\n",
    "\n",
    "pipeline_model.deploy(\n",
    "    initial_instance_count=1, \n",
    "    instance_type=\"ml.c4.xlarge\", \n",
    "    endpoint_name=endpoint_name\n",
    ")"
   ]
  },
  {
   "cell_type": "markdown",
   "id": "2bef7842",
   "metadata": {},
   "source": [
    "# Test Pipeline\n",
    "\n"
   ]
  },
  {
   "cell_type": "code",
   "execution_count": null,
   "id": "99be0576",
   "metadata": {},
   "outputs": [],
   "source": [
    "# pipeline_model.predict(\"something sweet and without any bitterness\")"
   ]
  }
 ],
 "metadata": {
  "kernelspec": {
   "display_name": "conda_pytorch_p36",
   "language": "python",
   "name": "conda_pytorch_p36"
  },
  "language_info": {
   "codemirror_mode": {
    "name": "ipython",
    "version": 3
   },
   "file_extension": ".py",
   "mimetype": "text/x-python",
   "name": "python",
   "nbconvert_exporter": "python",
   "pygments_lexer": "ipython3",
   "version": "3.6.13"
  }
 },
 "nbformat": 4,
 "nbformat_minor": 5
}
