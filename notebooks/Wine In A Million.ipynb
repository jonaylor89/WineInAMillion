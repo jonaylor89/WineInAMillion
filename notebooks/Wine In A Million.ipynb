{
 "cells": [
  {
   "cell_type": "markdown",
   "id": "c20cf8b7",
   "metadata": {},
   "source": [
    "\n",
    "# Wine in a Million\n",
    "\n",
    "### Authors: __[Zephyr Headley](https://github.com/jzheadley)__ and __[John Naylor](https://jonaylor.xyz)__\n"
   ]
  },
  {
   "cell_type": "code",
   "execution_count": null,
   "id": "bfcb968c",
   "metadata": {},
   "outputs": [],
   "source": [
    "!pip install sentence_transformers\n",
    "!pip install nvidia-ml-py3\n",
    "\n",
    "import os\n",
    "import tarfile\n",
    "import json\n",
    "import time\n",
    "import pandas as pd\n",
    "import boto3\n",
    "import joblib\n",
    "import sagemaker\n",
    "from sagemaker import get_execution_role\n",
    "from sagemaker.amazon.amazon_estimator import image_uris\n",
    "from sagemaker.serializers import CSVSerializer\n",
    "from sentence_transformers import SentenceTransformer\n",
    "from sagemaker.sklearn import SKLearnModel\n",
    "from sagemaker.pytorch import PyTorch, PyTorchModel\n",
    "from sagemaker.predictor import RealTimePredictor\n",
    "from sagemaker.inputs import TrainingInput\n",
    "from sklearn.neighbors import NearestNeighbors\n",
    "\n",
    "# Preprocessing\n",
    "import nltk\n",
    "from nltk.corpus import stopwords\n",
    "from nltk.stem import WordNetLemmatizer\n",
    "from string import punctuation \n",
    "\n",
    "from tqdm.notebook import tqdm \n",
    "tqdm.pandas()\n",
    "\n",
    "nltk.download('stopwords')\n",
    "nltk.download('punkt')\n",
    "nltk.download('wordnet')\n",
    "\n",
    "role = get_execution_role()\n",
    "\n",
    "print(f'SageMaker SDK Version: {sagemaker.__version__}')"
   ]
  },
  {
   "cell_type": "code",
   "execution_count": null,
   "id": "73807b68",
   "metadata": {},
   "outputs": [],
   "source": [
    "# bucket = \"<S3_BUCKET>\"\n",
    "# prefix = \"<S3_KEY_PREFIX>\"\n",
    "# filename = \"<DATASET_FILENAME>\"\n",
    "\n",
    "bucket = \"winemag-data-wineinamillion-23452\"\n",
    "prefix = \"data/raw/\"\n",
    "filename = \"winemag-data-130k-v2.csv\"\n",
    "\n",
    "assert bucket != \"<S3_BUCKET>\"\n",
    "assert prefix != \"<S3_KEY_PREFIX>\"\n",
    "assert filename != \"<DATASET_FILENAME>\"\n",
    "\n",
    "raw_data_location = f\"s3://{bucket}/{prefix}{filename}\""
   ]
  },
  {
   "cell_type": "code",
   "execution_count": null,
   "id": "f137a757",
   "metadata": {
    "scrolled": true
   },
   "outputs": [],
   "source": [
    "df = pd.read_csv(raw_data_location)\n",
    "df.describe()"
   ]
  },
  {
   "cell_type": "code",
   "execution_count": null,
   "id": "746c5224",
   "metadata": {},
   "outputs": [],
   "source": [
    "df.head(5)"
   ]
  },
  {
   "cell_type": "code",
   "execution_count": null,
   "id": "733de805",
   "metadata": {},
   "outputs": [],
   "source": [
    "print(df[\"description\"][0])"
   ]
  },
  {
   "cell_type": "markdown",
   "id": "ec33844f",
   "metadata": {},
   "source": [
    "# Preprocess Dataframe & Clean Data"
   ]
  },
  {
   "cell_type": "code",
   "execution_count": null,
   "id": "4abc8e34",
   "metadata": {},
   "outputs": [],
   "source": [
    "def clean_data(desc):\n",
    "    words = stopwords.words('english')\n",
    "    lower = \" \".join([w for w in desc.lower().split() if not w in words])\n",
    "    punct = ''.join(ch for ch in lower if ch not in punctuation)\n",
    "    wordnet_lemmatizer = WordNetLemmatizer()\n",
    "\n",
    "    word_tokens = nltk.word_tokenize(punct)\n",
    "    lemmatized_word = [wordnet_lemmatizer.lemmatize(word) for word in word_tokens]\n",
    "\n",
    "    word_joined = \" \".join(lemmatized_word)\n",
    "    \n",
    "    return word_joined\n",
    "    \n",
    "\n",
    "from sklearn.neighbors import NearestNeighbor\n",
    "df['clean_desc'] = df[\"description\"].apply(clean_data)\n",
    "\n",
    "print(df['clean_desc'].head(5))"
   ]
  },
  {
   "cell_type": "code",
   "execution_count": null,
   "id": "3d27bbf2",
   "metadata": {},
   "outputs": [],
   "source": [
    "# Upload the preprocessed dataset to S3\n",
    "df.to_csv(\"cleaned_dataset.csv\")\n",
    "\n",
    "inputs = boto3.resource(\"s3\").Bucket(bucket).upload_file('cleaned_dataset.csv', \"data/clean/dataset.csv\")"
   ]
  },
  {
   "cell_type": "markdown",
   "id": "d91c5c66",
   "metadata": {},
   "source": [
    "\n",
    "# Sentence-BERT Embeddings\n"
   ]
  },
  {
   "cell_type": "raw",
   "id": "bca7ae9f",
   "metadata": {},
   "source": [
    "@inproceedings{\n",
    "    reimers-2019-sentence-bert,\n",
    "    title = \"Sentence-BERT: Sentence Embeddings using Siamese BERT-Networks\",\n",
    "    author = \"Reimers, Nils and Gurevych, Iryna\",\n",
    "    booktitle = \"Proceedings of the 2019 Conference on Empirical Methods in Natural Language Processing\",\n",
    "    month = \"11\",\n",
    "    year = \"2019\",\n",
    "    publisher = \"Association for Computational Linguistics\",\n",
    "    url = \"http://arxiv.org/abs/1908.10084\",\n",
    "}"
   ]
  },
  {
   "cell_type": "code",
   "execution_count": null,
   "id": "cf4433fb",
   "metadata": {},
   "outputs": [],
   "source": [
    "# Save the model to disk which we will host at sagemaker\n",
    "\n",
    "model_name = 'sentence-transformers/all-MiniLM-L6-v2'\n",
    "\n",
    "saved_model_dir = 'transformer'\n",
    "if not os.path.isdir(saved_model_dir):\n",
    "    os.makedirs(saved_model_dir)\n",
    "\n",
    "model = SentenceTransformer(model_name)\n",
    "model.save(saved_model_dir)\n",
    "\n",
    "embeddings = model.encode(df[\"clean_desc\"][0])\n",
    "print(len(embeddings))"
   ]
  },
  {
   "cell_type": "code",
   "execution_count": null,
   "id": "cccd2ee5",
   "metadata": {},
   "outputs": [],
   "source": [
    "# Zip the model .gz format and upload to s3\n",
    "\n",
    "export_dir = 'transformer'\n",
    "with tarfile.open('model.tar.gz', mode='w:gz') as archive:\n",
    "    archive.add(export_dir, recursive=True)\n",
    "\n",
    "\n",
    "#Upload the model to S3\n",
    "boto3.Session().resource(\"s3\").Bucket(bucket).upload_file('model.tar.gz', 'model/transformer/model.tar.gz')"
   ]
  },
  {
   "cell_type": "code",
   "execution_count": null,
   "id": "069587c8",
   "metadata": {},
   "outputs": [],
   "source": [
    "# Create Initial Embeddings (this can take a while)\n",
    "def train():\n",
    "    embeddings = []\n",
    "    for i in tqdm.notebook.tqdm(range(len(df[\"clean_desc\"]))):\n",
    "        vector = model.encode([df[\"clean_desc\"][i]])\n",
    "        embeddings.append(vector)\n",
    "        \n",
    "    # WARNING/TODO : NN doesn't accept json as input so this'll need to be changed\n",
    "    json_str = {\"embeddings\": embeddings}\n",
    "    with open(\"embeddings.json\", \"w\") as f:\n",
    "        json.dump(json_str, f, indent=6)\n",
    "\n",
    "    #Upload the embeddings to S3\n",
    "    embeddings_location = boto3\n",
    "        .Session()\n",
    "        .resource(\"s3\")\n",
    "        .Bucket(bucket)\n",
    "        .upload_data(path='model/embeddings/embeddings.json')\n",
    "\n",
    "    print(embeddings_location)\n",
    "    return embeddings_location"
   ]
  },
  {
   "cell_type": "code",
   "execution_count": null,
   "id": "7790798c",
   "metadata": {},
   "outputs": [],
   "source": [
    "# Create Embedding Model\n",
    "\n",
    "class StringPredictor(RealTimePredictor):\n",
    "    def __init__(self, endpoint_name, sagemaker_session):\n",
    "        super(StringPredictor, self).__init__(endpoint_name, sagemaker_session, content_type='text/plain')\n",
    "           \n",
    "\n",
    "embeddings_estimator = PyTorch(\n",
    "    model_data=f\"s3://{bucket}/model/transformer/model.tar.gz\",\n",
    "    role = role, \n",
    "    entry_point ='train_deploy.py',\n",
    "    source_dir = './src', \n",
    "    framework_version = '1.3.1',\n",
    "    predictor_cls = StringPredictor\n",
    ")\n",
    "\n",
    "embeddings_model = embeddings_estimator.create_model()\n"
   ]
  },
  {
   "cell_type": "code",
   "execution_count": null,
   "id": "0f1c55f9",
   "metadata": {},
   "outputs": [],
   "source": [
    "# Test Embedding Model\n",
    "# embedding_predictor = pytorch_model.deploy(instance_type='ml.m5.large', initial_instance_count=1)\n",
    "\n",
    "# test_payload = 'sweet wine with a hint of tartness'\n",
    "# test_features = embeddings_predictor.predict(test_payload)\n",
    "# test_embedding = json.loads(test_features)\n",
    "\n",
    "# len(test_embedding)"
   ]
  },
  {
   "cell_type": "markdown",
   "id": "968c741b",
   "metadata": {},
   "source": [
    "\n",
    "\n",
    "# Nearest Neighbors Model \"Training\"\n"
   ]
  },
  {
   "cell_type": "code",
   "execution_count": null,
   "id": "ebc94c5a",
   "metadata": {},
   "outputs": [],
   "source": [
    "embeddings_df = pd.read_csv(f\"s3://{bucket}/model/embeddings/embeddings.csv.tar.gz\")"
   ]
  },
  {
   "cell_type": "code",
   "execution_count": null,
   "id": "d452d7fa",
   "metadata": {},
   "outputs": [],
   "source": [
    "embeddings_df = embeddings_df[:-1]\n",
    "embeddings_df.tail(5)\n"
   ]
  },
  {
   "cell_type": "code",
   "execution_count": null,
   "id": "60e9bd07",
   "metadata": {},
   "outputs": [],
   "source": [
    "\n",
    "neigh = NearestNeighbors(n_neighbors=2)\n",
    "neigh.fit(embeddings_df)\n",
    "\n",
    "joblib.dump(neigh, \"model.joblib\")\n",
    "with tarfile.open('model.joblib.tar.gz', mode='w:gz') as archive:\n",
    "    archive.add(\"model.joblib\", recursive=True)\n",
    "\n",
    "inputs = boto3.resource(\"s3\").Bucket(bucket).upload_file('model.joblib.tar.gz', \"model/nn/model.joblib.tar.gz\")"
   ]
  },
  {
   "cell_type": "markdown",
   "id": "8ddebd53",
   "metadata": {},
   "source": [
    "# Nearest Neighbors Model Creation"
   ]
  },
  {
   "cell_type": "code",
   "execution_count": null,
   "id": "a6c8c20e",
   "metadata": {},
   "outputs": [],
   "source": [
    "nn_model = SKLearnModel(\n",
    "    model_data=f\"s3://{bucket}/model/nn/model.joblib.tar.gz\",\n",
    "    role=role,\n",
    "    entry_point=\"src/nn_inference.py\",\n",
    "    framework_version=\"0.20.0\",\n",
    ")"
   ]
  },
  {
   "cell_type": "code",
   "execution_count": null,
   "id": "cc82e2d7",
   "metadata": {
    "scrolled": true
   },
   "outputs": [],
   "source": [
    "nn_predictor = nn_model.deploy(\n",
    "    instance_type=\"ml.m4.xlarge\", \n",
    "    initial_instance_count=1,\n",
    ")"
   ]
  },
  {
   "cell_type": "code",
   "execution_count": null,
   "id": "ff9afd53",
   "metadata": {},
   "outputs": [],
   "source": [
    "nn_predictor.predict({\"embeddings\": [0.0 for _ in range(384)]})"
   ]
  },
  {
   "cell_type": "markdown",
   "id": "d9f1b522",
   "metadata": {},
   "source": [
    "\n",
    "# Inference Pipeline\n"
   ]
  },
  {
   "cell_type": "code",
   "execution_count": null,
   "id": "05040a3e",
   "metadata": {},
   "outputs": [],
   "source": [
    "\n",
    "timestamp_prefix = strftime(\"%Y-%m-%d-%H-%M-%S\", time.gmtime())\n",
    "\n",
    "model_name = \"inference-pipeline-\" + timestamp_prefix\n",
    "endpoint_name = \"inference-pipeline-ep-\" + timestamp_prefix\n",
    "pipeline_model = PipelineModel(\n",
    "    name=model_name, \n",
    "    role=role, \n",
    "    models=[\n",
    "        embedding_model, \n",
    "        nn_model\n",
    "    ]\n",
    ")\n",
    "\n",
    "pipeline_model.deploy(\n",
    "    initial_instance_count=1, \n",
    "    instance_type=\"ml.c4.xlarge\", \n",
    "    endpoint_name=endpoint_name\n",
    ")"
   ]
  },
  {
   "cell_type": "markdown",
   "id": "f1a593aa",
   "metadata": {},
   "source": [
    "# Test Pipeline\n",
    "\n"
   ]
  },
  {
   "cell_type": "code",
   "execution_count": null,
   "id": "2018a388",
   "metadata": {},
   "outputs": [],
   "source": [
    "# pipeline_model.predict(\"something sweet and without any bitterness\")"
   ]
  },
  {
   "cell_type": "markdown",
   "id": "fe889058",
   "metadata": {},
   "source": [
    "# Clean Up"
   ]
  },
  {
   "cell_type": "code",
   "execution_count": null,
   "id": "47dc436c",
   "metadata": {},
   "outputs": [],
   "source": [
    "# Delete Endpoints "
   ]
  }
 ],
 "metadata": {
  "kernelspec": {
   "display_name": "conda_pytorch_p36",
   "language": "python",
   "name": "conda_pytorch_p36"
  },
  "language_info": {
   "codemirror_mode": {
    "name": "ipython",
    "version": 3
   },
   "file_extension": ".py",
   "mimetype": "text/x-python",
   "name": "python",
   "nbconvert_exporter": "python",
   "pygments_lexer": "ipython3",
   "version": "3.6.13"
  }
 },
 "nbformat": 4,
 "nbformat_minor": 5
}
