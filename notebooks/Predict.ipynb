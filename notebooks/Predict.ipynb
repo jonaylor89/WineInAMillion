{
 "cells": [
  {
   "cell_type": "code",
   "execution_count": 19,
   "metadata": {},
   "outputs": [
    {
     "name": "stderr",
     "output_type": "stream",
     "text": [
      "[nltk_data] Downloading package stopwords to\n",
      "[nltk_data]     /home/jzheadley/nltk_data...\n",
      "[nltk_data]   Package stopwords is already up-to-date!\n",
      "[nltk_data] Downloading package punkt to /home/jzheadley/nltk_data...\n",
      "[nltk_data]   Package punkt is already up-to-date!\n",
      "[nltk_data] Downloading package wordnet to\n",
      "[nltk_data]     /home/jzheadley/nltk_data...\n",
      "[nltk_data]   Package wordnet is already up-to-date!\n"
     ]
    }
   ],
   "source": [
    "import pandas as pd\n",
    "from bert_serving.client import BertClient\n",
    "import nltk\n",
    "from nltk.corpus import stopwords\n",
    "from nltk.stem import WordNetLemmatizer\n",
    "from string import punctuation \n",
    "\n",
    "nltk.download('stopwords')\n",
    "nltk.download('punkt')\n",
    "nltk.download('wordnet')\n",
    "\n",
    "bc = BertClient()\n"
   ]
  },
  {
   "cell_type": "code",
   "execution_count": 20,
   "metadata": {},
   "outputs": [],
   "source": [
    "s = pd.read_json('../data/clean_embedded.json',orient='records')"
   ]
  },
  {
   "cell_type": "code",
   "execution_count": 21,
   "metadata": {},
   "outputs": [
    {
     "name": "stdout",
     "output_type": "stream",
     "text": [
      "       Unnamed: 0   country  \\\n",
      "0               0     Italy   \n",
      "1               1  Portugal   \n",
      "2               2        US   \n",
      "3               3        US   \n",
      "4               4        US   \n",
      "...           ...       ...   \n",
      "24995       24995        US   \n",
      "24996       24996     Chile   \n",
      "24997       24997    France   \n",
      "24998       24998    France   \n",
      "24999       24999        US   \n",
      "\n",
      "                                             description  \\\n",
      "0      Aromas include tropical fruit, broom, brimston...   \n",
      "1      This is ripe and fruity, a wine that is smooth...   \n",
      "2      Tart and snappy, the flavors of lime flesh and...   \n",
      "3      Pineapple rind, lemon pith and orange blossom ...   \n",
      "4      Much like the regular bottling from 2012, this...   \n",
      "...                                                  ...   \n",
      "24995  This blend of 46% Cabernet Sauvignon, 34% Syra...   \n",
      "24996  A toasty but green-smelling bouquet mixes scen...   \n",
      "24997  This wine is all bright cherry fruit with juic...   \n",
      "24998  This is an attractively crisp, citrus-flavored...   \n",
      "24999  Lightly creamy fruit and vanilla flavors follo...   \n",
      "\n",
      "                              designation  points  price           province  \\\n",
      "0                            Vulkà Bianco      87    NaN  Sicily & Sardinia   \n",
      "1                                Avidagos      87   15.0              Douro   \n",
      "2                                    None      87   14.0             Oregon   \n",
      "3                    Reserve Late Harvest      87   13.0           Michigan   \n",
      "4      Vintner's Reserve Wild Child Block      87   65.0             Oregon   \n",
      "...                                   ...     ...    ...                ...   \n",
      "24995                        Main Squeeze      87   20.0         California   \n",
      "24996                Elegido Gran Reserva      87   18.0    Colchagua Costa   \n",
      "24997                Vignobles des Roches      87   18.0         Beaujolais   \n",
      "24998                                None      87   20.0           Burgundy   \n",
      "24999                                None      87   12.0         Washington   \n",
      "\n",
      "                   region_1           region_2         taster_name  \\\n",
      "0                      Etna               None       Kerin O’Keefe   \n",
      "1                      None               None          Roger Voss   \n",
      "2         Willamette Valley  Willamette Valley        Paul Gregutt   \n",
      "3       Lake Michigan Shore               None  Alexander Peartree   \n",
      "4         Willamette Valley  Willamette Valley        Paul Gregutt   \n",
      "...                     ...                ...                 ...   \n",
      "24995           Paso Robles      Central Coast       Matt Kettmann   \n",
      "24996                  None               None   Michael Schachner   \n",
      "24997                Morgon               None          Roger Voss   \n",
      "24998           Saint-Véran               None          Roger Voss   \n",
      "24999  Columbia Valley (WA)    Columbia Valley    Sean P. Sullivan   \n",
      "\n",
      "      taster_twitter_handle  \\\n",
      "0              @kerinokeefe   \n",
      "1                @vossroger   \n",
      "2               @paulgwine    \n",
      "3                      None   \n",
      "4               @paulgwine    \n",
      "...                     ...   \n",
      "24995         @mattkettmann   \n",
      "24996           @wineschach   \n",
      "24997            @vossroger   \n",
      "24998            @vossroger   \n",
      "24999         @wawinereport   \n",
      "\n",
      "                                                   title         variety  \\\n",
      "0                      Nicosia 2013 Vulkà Bianco  (Etna)     White Blend   \n",
      "1          Quinta dos Avidagos 2011 Avidagos Red (Douro)  Portuguese Red   \n",
      "2          Rainstorm 2013 Pinot Gris (Willamette Valley)      Pinot Gris   \n",
      "3      St. Julian 2013 Reserve Late Harvest Riesling ...        Riesling   \n",
      "4      Sweet Cheeks 2012 Vintner's Reserve Wild Child...      Pinot Noir   \n",
      "...                                                  ...             ...   \n",
      "24995   Twisted Paso 2014 Main Squeeze Red (Paso Robles)       Red Blend   \n",
      "24996  Valle Hermoso 2015 Elegido Gran Reserva Carmen...       Carmenère   \n",
      "24997  Vignobles Bulliat 2016 Vignobles des Roches  (...           Gamay   \n",
      "24998                     Vins Auvigue 2014  Saint-Véran      Chardonnay   \n",
      "24999  Waterbrook 2015 Chardonnay (Columbia Valley (WA))      Chardonnay   \n",
      "\n",
      "                    winery                                         clean_desc  \\\n",
      "0                  Nicosia  aroma include tropical fruit broom brimstone d...   \n",
      "1      Quinta dos Avidagos  ripe fruity wine smooth still structured firm ...   \n",
      "2                Rainstorm  tart snappy flavor lime flesh rind dominate gr...   \n",
      "3               St. Julian  pineapple rind lemon pith orange blossom start...   \n",
      "4             Sweet Cheeks  much like regular bottling 2012 come across ra...   \n",
      "...                    ...                                                ...   \n",
      "24995         Twisted Paso  blend 46 cabernet sauvignon 34 syrah 20 zinfan...   \n",
      "24996        Valle Hermoso  toasty greensmelling bouquet mix scent grass c...   \n",
      "24997    Vignobles Bulliat  wine bright cherry fruit juicy acidity jammy c...   \n",
      "24998         Vins Auvigue  attractively crisp citrusflavored wine lime ri...   \n",
      "24999           Waterbrook  lightly creamy fruit vanilla flavor follow mel...   \n",
      "\n",
      "                                              embeddings  \n",
      "0      [[-0.5997751355000001, 0.08079655470000001, 0....  \n",
      "1      [[-0.4358976483, -0.1166821197, 0.1795733869, ...  \n",
      "2      [[-0.5068993568, -0.2799183726, -0.1377454251,...  \n",
      "3      [[-0.6213921309, -0.330014497, 0.1883016378, -...  \n",
      "4      [[-0.374789238, -0.4078252316, 0.2718548775000...  \n",
      "...                                                  ...  \n",
      "24995  [[-0.6366264224, 0.013325844000000002, -0.1264...  \n",
      "24996  [[-0.6621792316, 0.0546347015, 0.1509027332, -...  \n",
      "24997  [[-0.4232709408, -0.0143067027, 0.1570264548, ...  \n",
      "24998  [[-0.548058629, 0.0398855843, 0.1830442697, -0...  \n",
      "24999  [[-0.8420912623, 0.12397319820000001, 0.195828...  \n",
      "\n",
      "[25000 rows x 16 columns]\n"
     ]
    }
   ],
   "source": [
    "print(s)"
   ]
  },
  {
   "cell_type": "code",
   "execution_count": 22,
   "metadata": {},
   "outputs": [],
   "source": [
    "s['id']=s['Unnamed: 0']"
   ]
  },
  {
   "cell_type": "code",
   "execution_count": 23,
   "metadata": {},
   "outputs": [],
   "source": [
    "def clean_data(desc):\n",
    "    words = stopwords.words('english')\n",
    "    lower = \" \".join([w for w in desc.lower().split() if not w in words])\n",
    "    punct = ''.join(ch for ch in lower if ch not in punctuation)\n",
    "    wordnet_lemmatizer = WordNetLemmatizer()\n",
    "\n",
    "    word_tokens = nltk.word_tokenize(punct)\n",
    "    lemmatized_word = [wordnet_lemmatizer.lemmatize(word) for word in word_tokens]\n",
    "\n",
    "    word_joined = \" \".join(lemmatized_word)\n",
    "    \n",
    "    return word_joined"
   ]
  },
  {
   "cell_type": "code",
   "execution_count": 39,
   "metadata": {},
   "outputs": [],
   "source": [
    "from scipy import spatial\n",
    "\n",
    "cosine_similarity = lambda x, y: 1 - spatial.distance.cosine(x, y)\n",
    "similarities = []\n",
    "\n",
    "# inputted_sentence = [\"dry with a fruity aftertaste\"] # this inputted sentence needs to get vectorized\n",
    "inputted_sentence = \"floral essence \" # this inputted sentence needs to get vectorized\n",
    "cmp_sent = bc.encode([clean_data(inputted_sentence)]) # vectorizing the senetence\n",
    "for index, row in s.iterrows():\n",
    "    similarity = cosine_similarity(cmp_sent,row['embeddings'])\n",
    "    similarities.append((row['id'],row['title'],similarity))\n",
    "# for sentences in s[\"embeddings\"]:\n",
    "#     similarity = cosine_similarity(cmp_sent, sentences)\n",
    "#     print(similarity)\n",
    "#     similarities.append((sentences,similarity))\n",
    "    \n",
    "similarities = sorted(similarities, key=lambda item: -item[2])"
   ]
  },
  {
   "cell_type": "code",
   "execution_count": 40,
   "metadata": {},
   "outputs": [
    {
     "name": "stdout",
     "output_type": "stream",
     "text": [
      "[(16292, 'Aia Vecchia 2010 Sorugo  (Bolgheri Superiore)', 0.7024512664442345), (15425, 'Westwood 2015 Annadel Gap Vineyard White (Sonoma Valley)', 0.7023228458340438), (19552, 'Renieri 2013 Re di Renieri Red (Toscana)', 0.7021261921424243), (6621, \"Le P'tit Paysan 2011 Pierre's Pirouette Rosé of Mourvèdre (San Benito County)\", 0.6645734147573127), (18978, 'Le Colture NV Cartizze  (Prosecco Superiore di Cartizze)', 0.6413750614102952)]\n",
      "(18978, 'Le Colture NV Cartizze  (Prosecco Superiore di Cartizze)', 0.6413750614102952)\n"
     ]
    }
   ],
   "source": [
    "# print(cmp_sent)\n",
    "print(similarities[-5:])\n",
    "best = similarities[len(similarities)-1]\n",
    "print(best)\n"
   ]
  },
  {
   "cell_type": "code",
   "execution_count": 41,
   "metadata": {},
   "outputs": [
    {
     "name": "stdout",
     "output_type": "stream",
     "text": [
      "Unnamed: 0                                                           18978\n",
      "country                                                              Italy\n",
      "description              This is a very feminine sparkler with a beauti...\n",
      "designation                                                       Cartizze\n",
      "points                                                                  89\n",
      "price                                                                   38\n",
      "province                                                            Veneto\n",
      "region_1                                    Prosecco Superiore di Cartizze\n",
      "region_2                                                              None\n",
      "taster_name                                                           None\n",
      "taster_twitter_handle                                                 None\n",
      "title                    Le Colture NV Cartizze  (Prosecco Superiore di...\n",
      "variety                                                           Prosecco\n",
      "winery                                                          Le Colture\n",
      "clean_desc               feminine sparkler beautiful bouquet fresh whit...\n",
      "embeddings               [[-0.6686499119, 0.06528267260000001, -0.34388...\n",
      "id                                                                   18978\n",
      "Name: 18978, dtype: object\n"
     ]
    }
   ],
   "source": [
    "best_instance = s.iloc[best[0]]\n",
    "print(best_instance)"
   ]
  },
  {
   "cell_type": "code",
   "execution_count": 43,
   "metadata": {},
   "outputs": [
    {
     "name": "stdout",
     "output_type": "stream",
     "text": [
      "201\n",
      "This is a very feminine sparkler with a beautiful bouquet of fresh white rose and jasmine. It has a delicate, pulpy consistency and would pair well with zucchini flowers stuffed with mozzarella cheese.\n"
     ]
    }
   ],
   "source": [
    "# print([w[0] for w in similarities[:10]])\n",
    "print(len(best_instance['description']))\n",
    "print(best_instance['description'])"
   ]
  },
  {
   "cell_type": "code",
   "execution_count": null,
   "metadata": {},
   "outputs": [],
   "source": []
  },
  {
   "cell_type": "code",
   "execution_count": null,
   "metadata": {},
   "outputs": [],
   "source": []
  }
 ],
 "metadata": {
  "kernelspec": {
   "display_name": "Python 3",
   "language": "python",
   "name": "python3"
  },
  "language_info": {
   "codemirror_mode": {
    "name": "ipython",
    "version": 3
   },
   "file_extension": ".py",
   "mimetype": "text/x-python",
   "name": "python",
   "nbconvert_exporter": "python",
   "pygments_lexer": "ipython3",
   "version": "3.7.4"
  }
 },
 "nbformat": 4,
 "nbformat_minor": 2
}
