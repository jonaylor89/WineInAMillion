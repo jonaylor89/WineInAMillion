{
 "cells": [
  {
   "cell_type": "code",
   "execution_count": 9,
   "metadata": {},
   "outputs": [
    {
     "ename": "ModuleNotFoundError",
     "evalue": "No module named 'pandas'",
     "output_type": "error",
     "traceback": [
      "\u001b[0;31m---------------------------------------------------------------------------\u001b[0m",
      "\u001b[0;31mModuleNotFoundError\u001b[0m                       Traceback (most recent call last)",
      "\u001b[0;32m<ipython-input-9-c374ddd6d465>\u001b[0m in \u001b[0;36m<module>\u001b[0;34m\u001b[0m\n\u001b[1;32m      1\u001b[0m \u001b[0;32mimport\u001b[0m \u001b[0mre\u001b[0m\u001b[0;34m\u001b[0m\u001b[0;34m\u001b[0m\u001b[0m\n\u001b[1;32m      2\u001b[0m \u001b[0;31m# from nltk.util import ngrams\u001b[0m\u001b[0;34m\u001b[0m\u001b[0;34m\u001b[0m\u001b[0;34m\u001b[0m\u001b[0m\n\u001b[0;32m----> 3\u001b[0;31m \u001b[0;32mimport\u001b[0m \u001b[0mpandas\u001b[0m \u001b[0;32mas\u001b[0m \u001b[0mpd\u001b[0m\u001b[0;34m\u001b[0m\u001b[0;34m\u001b[0m\u001b[0m\n\u001b[0m",
      "\u001b[0;31mModuleNotFoundError\u001b[0m: No module named 'pandas'"
     ]
    }
   ],
   "source": [
    "import re\n",
    "# from nltk.util import ngrams\n",
    "import pandas as pd"
   ]
  },
  {
   "cell_type": "code",
   "execution_count": 8,
   "metadata": {},
   "outputs": [
    {
     "ename": "NameError",
     "evalue": "name 'pd' is not defined",
     "output_type": "error",
     "traceback": [
      "\u001b[0;31m---------------------------------------------------------------------------\u001b[0m",
      "\u001b[0;31mNameError\u001b[0m                                 Traceback (most recent call last)",
      "\u001b[0;32m<ipython-input-8-549c15d0c85a>\u001b[0m in \u001b[0;36m<module>\u001b[0;34m\u001b[0m\n\u001b[0;32m----> 1\u001b[0;31m \u001b[0ms\u001b[0m \u001b[0;34m=\u001b[0m \u001b[0mpd\u001b[0m\u001b[0;34m.\u001b[0m\u001b[0mread_csv\u001b[0m\u001b[0;34m(\u001b[0m\u001b[0;34m\"../wine-reviews/winemag-data-130k-v2.csv\"\u001b[0m\u001b[0;34m)\u001b[0m\u001b[0;34m\u001b[0m\u001b[0;34m\u001b[0m\u001b[0m\n\u001b[0m",
      "\u001b[0;31mNameError\u001b[0m: name 'pd' is not defined"
     ]
    }
   ],
   "source": [
    "s = pd.read_csv(\"../wine-reviews/winemag-data-130k-v2.csv\")"
   ]
  },
  {
   "cell_type": "code",
   "execution_count": 5,
   "metadata": {},
   "outputs": [
    {
     "name": "stdout",
     "output_type": "stream",
     "text": [
      "        Unnamed: 0   country  \\\n",
      "0                0     Italy   \n",
      "1                1  Portugal   \n",
      "2                2        US   \n",
      "3                3        US   \n",
      "4                4        US   \n",
      "...            ...       ...   \n",
      "129966      129966   Germany   \n",
      "129967      129967        US   \n",
      "129968      129968    France   \n",
      "129969      129969    France   \n",
      "129970      129970    France   \n",
      "\n",
      "                                              description  \\\n",
      "0       Aromas include tropical fruit, broom, brimston...   \n",
      "1       This is ripe and fruity, a wine that is smooth...   \n",
      "2       Tart and snappy, the flavors of lime flesh and...   \n",
      "3       Pineapple rind, lemon pith and orange blossom ...   \n",
      "4       Much like the regular bottling from 2012, this...   \n",
      "...                                                   ...   \n",
      "129966  Notes of honeysuckle and cantaloupe sweeten th...   \n",
      "129967  Citation is given as much as a decade of bottl...   \n",
      "129968  Well-drained gravel soil gives this wine its c...   \n",
      "129969  A dry style of Pinot Gris, this is crisp with ...   \n",
      "129970  Big, rich and off-dry, this is powered by inte...   \n",
      "\n",
      "                                   designation  points  price  \\\n",
      "0                                 Vulkà Bianco      87    NaN   \n",
      "1                                     Avidagos      87   15.0   \n",
      "2                                          NaN      87   14.0   \n",
      "3                         Reserve Late Harvest      87   13.0   \n",
      "4           Vintner's Reserve Wild Child Block      87   65.0   \n",
      "...                                        ...     ...    ...   \n",
      "129966  Brauneberger Juffer-Sonnenuhr Spätlese      90   28.0   \n",
      "129967                                     NaN      90   75.0   \n",
      "129968                                   Kritt      90   30.0   \n",
      "129969                                     NaN      90   32.0   \n",
      "129970           Lieu-dit Harth Cuvée Caroline      90   21.0   \n",
      "\n",
      "                 province             region_1           region_2  \\\n",
      "0       Sicily & Sardinia                 Etna                NaN   \n",
      "1                   Douro                  NaN                NaN   \n",
      "2                  Oregon    Willamette Valley  Willamette Valley   \n",
      "3                Michigan  Lake Michigan Shore                NaN   \n",
      "4                  Oregon    Willamette Valley  Willamette Valley   \n",
      "...                   ...                  ...                ...   \n",
      "129966              Mosel                  NaN                NaN   \n",
      "129967             Oregon               Oregon       Oregon Other   \n",
      "129968             Alsace               Alsace                NaN   \n",
      "129969             Alsace               Alsace                NaN   \n",
      "129970             Alsace               Alsace                NaN   \n",
      "\n",
      "               taster_name taster_twitter_handle  \\\n",
      "0            Kerin O’Keefe          @kerinokeefe   \n",
      "1               Roger Voss            @vossroger   \n",
      "2             Paul Gregutt           @paulgwine    \n",
      "3       Alexander Peartree                   NaN   \n",
      "4             Paul Gregutt           @paulgwine    \n",
      "...                    ...                   ...   \n",
      "129966  Anna Lee C. Iijima                   NaN   \n",
      "129967        Paul Gregutt           @paulgwine    \n",
      "129968          Roger Voss            @vossroger   \n",
      "129969          Roger Voss            @vossroger   \n",
      "129970          Roger Voss            @vossroger   \n",
      "\n",
      "                                                    title         variety  \\\n",
      "0                       Nicosia 2013 Vulkà Bianco  (Etna)     White Blend   \n",
      "1           Quinta dos Avidagos 2011 Avidagos Red (Douro)  Portuguese Red   \n",
      "2           Rainstorm 2013 Pinot Gris (Willamette Valley)      Pinot Gris   \n",
      "3       St. Julian 2013 Reserve Late Harvest Riesling ...        Riesling   \n",
      "4       Sweet Cheeks 2012 Vintner's Reserve Wild Child...      Pinot Noir   \n",
      "...                                                   ...             ...   \n",
      "129966  Dr. H. Thanisch (Erben Müller-Burggraef) 2013 ...        Riesling   \n",
      "129967                  Citation 2004 Pinot Noir (Oregon)      Pinot Noir   \n",
      "129968  Domaine Gresser 2013 Kritt Gewurztraminer (Als...  Gewürztraminer   \n",
      "129969      Domaine Marcel Deiss 2012 Pinot Gris (Alsace)      Pinot Gris   \n",
      "129970  Domaine Schoffit 2012 Lieu-dit Harth Cuvée Car...  Gewürztraminer   \n",
      "\n",
      "                                          winery  \n",
      "0                                        Nicosia  \n",
      "1                            Quinta dos Avidagos  \n",
      "2                                      Rainstorm  \n",
      "3                                     St. Julian  \n",
      "4                                   Sweet Cheeks  \n",
      "...                                          ...  \n",
      "129966  Dr. H. Thanisch (Erben Müller-Burggraef)  \n",
      "129967                                  Citation  \n",
      "129968                           Domaine Gresser  \n",
      "129969                      Domaine Marcel Deiss  \n",
      "129970                          Domaine Schoffit  \n",
      "\n",
      "[129971 rows x 14 columns]\n"
     ]
    }
   ],
   "source": [
    "print(s)"
   ]
  },
  {
   "cell_type": "code",
   "execution_count": 7,
   "metadata": {},
   "outputs": [],
   "source": [
    "from bert_serving.server import BertServer\n",
    "from bert_serving.server.helper import get_run_args, get_args_parser, get_shutdown_parser\n",
    "\n",
    "bert_args = get_run_args()\n",
    "print(bert_args)"
   ]
  },
  {
   "cell_type": "code",
   "execution_count": 8,
   "metadata": {},
   "outputs": [
    {
     "name": "stdout",
     "output_type": "stream",
     "text": [
      "0         [(Aromas, include, tropical), (include, tropic...\n",
      "1         [(This, is, ripe), (is, ripe, and), (ripe, and...\n",
      "2         [(Tart, and, snappy,), (and, snappy,, the), (s...\n",
      "3         [(Pineapple, rind,, lemon), (rind,, lemon, pit...\n",
      "4         [(Much, like, the), (like, the, regular), (the...\n",
      "                                ...                        \n",
      "129966    [(Notes, of, honeysuckle), (of, honeysuckle, a...\n",
      "129967    [(Citation, is, given), (is, given, as), (give...\n",
      "129968    [(Well-drained, gravel, soil), (gravel, soil, ...\n",
      "129969    [(A, dry, style), (dry, style, of), (style, of...\n",
      "129970    [(Big,, rich, and), (rich, and, off-dry,), (an...\n",
      "Name: trigrams, Length: 129971, dtype: object\n",
      "        Unnamed: 0   country  \\\n",
      "0                0     Italy   \n",
      "1                1  Portugal   \n",
      "2                2        US   \n",
      "3                3        US   \n",
      "4                4        US   \n",
      "...            ...       ...   \n",
      "129966      129966   Germany   \n",
      "129967      129967        US   \n",
      "129968      129968    France   \n",
      "129969      129969    France   \n",
      "129970      129970    France   \n",
      "\n",
      "                                              description  \\\n",
      "0       Aromas include tropical fruit, broom, brimston...   \n",
      "1       This is ripe and fruity, a wine that is smooth...   \n",
      "2       Tart and snappy, the flavors of lime flesh and...   \n",
      "3       Pineapple rind, lemon pith and orange blossom ...   \n",
      "4       Much like the regular bottling from 2012, this...   \n",
      "...                                                   ...   \n",
      "129966  Notes of honeysuckle and cantaloupe sweeten th...   \n",
      "129967  Citation is given as much as a decade of bottl...   \n",
      "129968  Well-drained gravel soil gives this wine its c...   \n",
      "129969  A dry style of Pinot Gris, this is crisp with ...   \n",
      "129970  Big, rich and off-dry, this is powered by inte...   \n",
      "\n",
      "                                   designation  points  price  \\\n",
      "0                                 Vulkà Bianco      87    NaN   \n",
      "1                                     Avidagos      87   15.0   \n",
      "2                                          NaN      87   14.0   \n",
      "3                         Reserve Late Harvest      87   13.0   \n",
      "4           Vintner's Reserve Wild Child Block      87   65.0   \n",
      "...                                        ...     ...    ...   \n",
      "129966  Brauneberger Juffer-Sonnenuhr Spätlese      90   28.0   \n",
      "129967                                     NaN      90   75.0   \n",
      "129968                                   Kritt      90   30.0   \n",
      "129969                                     NaN      90   32.0   \n",
      "129970           Lieu-dit Harth Cuvée Caroline      90   21.0   \n",
      "\n",
      "                 province             region_1           region_2  \\\n",
      "0       Sicily & Sardinia                 Etna                NaN   \n",
      "1                   Douro                  NaN                NaN   \n",
      "2                  Oregon    Willamette Valley  Willamette Valley   \n",
      "3                Michigan  Lake Michigan Shore                NaN   \n",
      "4                  Oregon    Willamette Valley  Willamette Valley   \n",
      "...                   ...                  ...                ...   \n",
      "129966              Mosel                  NaN                NaN   \n",
      "129967             Oregon               Oregon       Oregon Other   \n",
      "129968             Alsace               Alsace                NaN   \n",
      "129969             Alsace               Alsace                NaN   \n",
      "129970             Alsace               Alsace                NaN   \n",
      "\n",
      "               taster_name taster_twitter_handle  \\\n",
      "0            Kerin O’Keefe          @kerinokeefe   \n",
      "1               Roger Voss            @vossroger   \n",
      "2             Paul Gregutt           @paulgwine    \n",
      "3       Alexander Peartree                   NaN   \n",
      "4             Paul Gregutt           @paulgwine    \n",
      "...                    ...                   ...   \n",
      "129966  Anna Lee C. Iijima                   NaN   \n",
      "129967        Paul Gregutt           @paulgwine    \n",
      "129968          Roger Voss            @vossroger   \n",
      "129969          Roger Voss            @vossroger   \n",
      "129970          Roger Voss            @vossroger   \n",
      "\n",
      "                                                    title         variety  \\\n",
      "0                       Nicosia 2013 Vulkà Bianco  (Etna)     White Blend   \n",
      "1           Quinta dos Avidagos 2011 Avidagos Red (Douro)  Portuguese Red   \n",
      "2           Rainstorm 2013 Pinot Gris (Willamette Valley)      Pinot Gris   \n",
      "3       St. Julian 2013 Reserve Late Harvest Riesling ...        Riesling   \n",
      "4       Sweet Cheeks 2012 Vintner's Reserve Wild Child...      Pinot Noir   \n",
      "...                                                   ...             ...   \n",
      "129966  Dr. H. Thanisch (Erben Müller-Burggraef) 2013 ...        Riesling   \n",
      "129967                  Citation 2004 Pinot Noir (Oregon)      Pinot Noir   \n",
      "129968  Domaine Gresser 2013 Kritt Gewurztraminer (Als...  Gewürztraminer   \n",
      "129969      Domaine Marcel Deiss 2012 Pinot Gris (Alsace)      Pinot Gris   \n",
      "129970  Domaine Schoffit 2012 Lieu-dit Harth Cuvée Car...  Gewürztraminer   \n",
      "\n",
      "                                          winery  \\\n",
      "0                                        Nicosia   \n",
      "1                            Quinta dos Avidagos   \n",
      "2                                      Rainstorm   \n",
      "3                                     St. Julian   \n",
      "4                                   Sweet Cheeks   \n",
      "...                                          ...   \n",
      "129966  Dr. H. Thanisch (Erben Müller-Burggraef)   \n",
      "129967                                  Citation   \n",
      "129968                           Domaine Gresser   \n",
      "129969                      Domaine Marcel Deiss   \n",
      "129970                          Domaine Schoffit   \n",
      "\n",
      "                                                 trigrams  \n",
      "0       [(Aromas, include, tropical), (include, tropic...  \n",
      "1       [(This, is, ripe), (is, ripe, and), (ripe, and...  \n",
      "2       [(Tart, and, snappy,), (and, snappy,, the), (s...  \n",
      "3       [(Pineapple, rind,, lemon), (rind,, lemon, pit...  \n",
      "4       [(Much, like, the), (like, the, regular), (the...  \n",
      "...                                                   ...  \n",
      "129966  [(Notes, of, honeysuckle), (of, honeysuckle, a...  \n",
      "129967  [(Citation, is, given), (is, given, as), (give...  \n",
      "129968  [(Well-drained, gravel, soil), (gravel, soil, ...  \n",
      "129969  [(A, dry, style), (dry, style, of), (style, of...  \n",
      "129970  [(Big,, rich, and), (rich, and, off-dry,), (an...  \n",
      "\n",
      "[129971 rows x 15 columns]\n"
     ]
    }
   ],
   "source": [
    "import time\n",
    "\n",
    "server = bertServer(bert_args)\n",
    "server.start()\n",
    "time.sleep(20)"
   ]
  },
  {
   "cell_type": "code",
   "execution_count": 13,
   "metadata": {},
   "outputs": [
    {
     "name": "stdout",
     "output_type": "stream",
     "text": [
      "<bert_serving.client.BertClient object at 0x149a2c310>\n"
     ]
    }
   ],
   "source": [
    "from bert_serving.client import BertClient\n",
    "\n",
    "bc = BertClient(\"10.166.91.74\")\n",
    "print(bc)"
   ]
  },
  {
   "cell_type": "code",
   "execution_count": 9,
   "metadata": {},
   "outputs": [
    {
     "name": "stdout",
     "output_type": "stream",
     "text": [
      "10000\n",
      "      Unnamed: 0   country                                        description  \\\n",
      "0              0     Italy  Aromas include tropical fruit, broom, brimston...   \n",
      "1              1  Portugal  This is ripe and fruity, a wine that is smooth...   \n",
      "2              2        US  Tart and snappy, the flavors of lime flesh and...   \n",
      "3              3        US  Pineapple rind, lemon pith and orange blossom ...   \n",
      "4              4        US  Much like the regular bottling from 2012, this...   \n",
      "...          ...       ...                                                ...   \n",
      "9995        9995        US  Comes from a little-understood part of the spr...   \n",
      "9996        9996        US  Smoky and savory, with sharp acidity under bla...   \n",
      "9997        9997    France  The style at Domaines Ott has changed to becom...   \n",
      "9998        9998        US  It's interesting and a little odd that this 10...   \n",
      "9999        9999    France  As befits a single vineyard Gevrey Chambertin,...   \n",
      "\n",
      "                             designation  points  price           province  \\\n",
      "0                           Vulkà Bianco      87    NaN  Sicily & Sardinia   \n",
      "1                               Avidagos      87   15.0              Douro   \n",
      "2                                    NaN      87   14.0             Oregon   \n",
      "3                   Reserve Late Harvest      87   13.0           Michigan   \n",
      "4     Vintner's Reserve Wild Child Block      87   65.0             Oregon   \n",
      "...                                  ...     ...    ...                ...   \n",
      "9995                      Griffin's Lair      89   46.0         California   \n",
      "9996                                 NaN      89   22.0         Washington   \n",
      "9997                    Château de Selle      89   43.0           Provence   \n",
      "9998           To Kalon Vineyard I Block      91   75.0         California   \n",
      "9999                       Les Evocelles      91   52.0           Burgundy   \n",
      "\n",
      "                  region_1           region_2         taster_name  \\\n",
      "0                     Etna                NaN       Kerin O’Keefe   \n",
      "1                      NaN                NaN          Roger Voss   \n",
      "2        Willamette Valley  Willamette Valley        Paul Gregutt   \n",
      "3      Lake Michigan Shore                NaN  Alexander Peartree   \n",
      "4        Willamette Valley  Willamette Valley        Paul Gregutt   \n",
      "...                    ...                ...                 ...   \n",
      "9995          Sonoma Coast             Sonoma                 NaN   \n",
      "9996  Columbia Valley (WA)    Columbia Valley        Paul Gregutt   \n",
      "9997     Côtes de Provence                NaN          Roger Voss   \n",
      "9998              Oakville               Napa                 NaN   \n",
      "9999     Gevrey-Chambertin                NaN          Roger Voss   \n",
      "\n",
      "     taster_twitter_handle                                              title  \\\n",
      "0             @kerinokeefe                  Nicosia 2013 Vulkà Bianco  (Etna)   \n",
      "1               @vossroger      Quinta dos Avidagos 2011 Avidagos Red (Douro)   \n",
      "2              @paulgwine       Rainstorm 2013 Pinot Gris (Willamette Valley)   \n",
      "3                      NaN  St. Julian 2013 Reserve Late Harvest Riesling ...   \n",
      "4              @paulgwine   Sweet Cheeks 2012 Vintner's Reserve Wild Child...   \n",
      "...                    ...                                                ...   \n",
      "9995                   NaN  Roessler 2008 Griffin's Lair Pinot Noir (Sonom...   \n",
      "9996           @paulgwine   Seven Hills 2007 Tempranillo (Columbia Valley ...   \n",
      "9997            @vossroger  Domaines Ott 2009 Château de Selle Rosé (Côtes...   \n",
      "9998                   NaN  Robert Mondavi 2010 To Kalon Vineyard I Block ...   \n",
      "9999            @vossroger  Henri de Villamont 2010 Les Evocelles  (Gevrey...   \n",
      "\n",
      "             variety               winery  \n",
      "0        White Blend              Nicosia  \n",
      "1     Portuguese Red  Quinta dos Avidagos  \n",
      "2         Pinot Gris            Rainstorm  \n",
      "3           Riesling           St. Julian  \n",
      "4         Pinot Noir         Sweet Cheeks  \n",
      "...              ...                  ...  \n",
      "9995      Pinot Noir             Roessler  \n",
      "9996     Tempranillo          Seven Hills  \n",
      "9997            Rosé         Domaines Ott  \n",
      "9998      Fumé Blanc       Robert Mondavi  \n",
      "9999      Pinot Noir   Henri de Villamont  \n",
      "\n",
      "[10000 rows x 14 columns]\n",
      "connected\n"
     ]
    },
    {
     "name": "stderr",
     "output_type": "stream",
     "text": [
      "/Users/johannes/.local/share/virtualenvs/WineInAMillion-gc_NmYU7/lib/python3.7/site-packages/bert_serving/client/__init__.py:299: UserWarning: some of your sentences have more tokens than \"max_seq_len=25\" set on the server, as consequence you may get less-accurate or truncated embeddings.\n",
      "here is what you can do:\n",
      "- disable the length-check by create a new \"BertClient(check_length=False)\" when you do not want to display this warning\n",
      "- or, start a new server with a larger \"max_seq_len\"\n",
      "  '- or, start a new server with a larger \"max_seq_len\"' % self.length_limit)\n"
     ]
    },
    {
     "ename": "KeyboardInterrupt",
     "evalue": "",
     "output_type": "error",
     "traceback": [
      "\u001b[0;31m---------------------------------------------------------------------------\u001b[0m",
      "\u001b[0;31mKeyboardInterrupt\u001b[0m                         Traceback (most recent call last)",
      "\u001b[0;32m<ipython-input-9-f8078f02d19f>\u001b[0m in \u001b[0;36m<module>\u001b[0;34m\u001b[0m\n\u001b[1;32m     11\u001b[0m     \u001b[0;32mreturn\u001b[0m \u001b[0mbc\u001b[0m\u001b[0;34m.\u001b[0m\u001b[0mencode\u001b[0m\u001b[0;34m(\u001b[0m\u001b[0;34m[\u001b[0m\u001b[0mdescription\u001b[0m\u001b[0;34m]\u001b[0m\u001b[0;34m)\u001b[0m\u001b[0;34m\u001b[0m\u001b[0;34m\u001b[0m\u001b[0m\n\u001b[1;32m     12\u001b[0m \u001b[0;31m# encodings = lambda x: bc.encode([x]); bar.next()\u001b[0m\u001b[0;34m\u001b[0m\u001b[0;34m\u001b[0m\u001b[0;34m\u001b[0m\u001b[0m\n\u001b[0;32m---> 13\u001b[0;31m \u001b[0ms\u001b[0m\u001b[0;34m[\u001b[0m\u001b[0;34m'embeddings'\u001b[0m\u001b[0;34m]\u001b[0m \u001b[0;34m=\u001b[0m \u001b[0ms\u001b[0m\u001b[0;34m[\u001b[0m\u001b[0;34m'description'\u001b[0m\u001b[0;34m]\u001b[0m\u001b[0;34m.\u001b[0m\u001b[0mapply\u001b[0m\u001b[0;34m(\u001b[0m\u001b[0mencodings\u001b[0m\u001b[0;34m)\u001b[0m\u001b[0;34m\u001b[0m\u001b[0;34m\u001b[0m\u001b[0m\n\u001b[0m\u001b[1;32m     14\u001b[0m \u001b[0;34m\u001b[0m\u001b[0m\n\u001b[1;32m     15\u001b[0m \u001b[0mbar\u001b[0m\u001b[0;34m.\u001b[0m\u001b[0mfinish\u001b[0m\u001b[0;34m(\u001b[0m\u001b[0;34m)\u001b[0m\u001b[0;34m\u001b[0m\u001b[0;34m\u001b[0m\u001b[0m\n",
      "\u001b[0;32m~/.local/share/virtualenvs/WineInAMillion-gc_NmYU7/lib/python3.7/site-packages/pandas/core/series.py\u001b[0m in \u001b[0;36mapply\u001b[0;34m(self, func, convert_dtype, args, **kwds)\u001b[0m\n\u001b[1;32m   4043\u001b[0m             \u001b[0;32melse\u001b[0m\u001b[0;34m:\u001b[0m\u001b[0;34m\u001b[0m\u001b[0;34m\u001b[0m\u001b[0m\n\u001b[1;32m   4044\u001b[0m                 \u001b[0mvalues\u001b[0m \u001b[0;34m=\u001b[0m \u001b[0mself\u001b[0m\u001b[0;34m.\u001b[0m\u001b[0mastype\u001b[0m\u001b[0;34m(\u001b[0m\u001b[0mobject\u001b[0m\u001b[0;34m)\u001b[0m\u001b[0;34m.\u001b[0m\u001b[0mvalues\u001b[0m\u001b[0;34m\u001b[0m\u001b[0;34m\u001b[0m\u001b[0m\n\u001b[0;32m-> 4045\u001b[0;31m                 \u001b[0mmapped\u001b[0m \u001b[0;34m=\u001b[0m \u001b[0mlib\u001b[0m\u001b[0;34m.\u001b[0m\u001b[0mmap_infer\u001b[0m\u001b[0;34m(\u001b[0m\u001b[0mvalues\u001b[0m\u001b[0;34m,\u001b[0m \u001b[0mf\u001b[0m\u001b[0;34m,\u001b[0m \u001b[0mconvert\u001b[0m\u001b[0;34m=\u001b[0m\u001b[0mconvert_dtype\u001b[0m\u001b[0;34m)\u001b[0m\u001b[0;34m\u001b[0m\u001b[0;34m\u001b[0m\u001b[0m\n\u001b[0m\u001b[1;32m   4046\u001b[0m \u001b[0;34m\u001b[0m\u001b[0m\n\u001b[1;32m   4047\u001b[0m         \u001b[0;32mif\u001b[0m \u001b[0mlen\u001b[0m\u001b[0;34m(\u001b[0m\u001b[0mmapped\u001b[0m\u001b[0;34m)\u001b[0m \u001b[0;32mand\u001b[0m \u001b[0misinstance\u001b[0m\u001b[0;34m(\u001b[0m\u001b[0mmapped\u001b[0m\u001b[0;34m[\u001b[0m\u001b[0;36m0\u001b[0m\u001b[0;34m]\u001b[0m\u001b[0;34m,\u001b[0m \u001b[0mSeries\u001b[0m\u001b[0;34m)\u001b[0m\u001b[0;34m:\u001b[0m\u001b[0;34m\u001b[0m\u001b[0;34m\u001b[0m\u001b[0m\n",
      "\u001b[0;32mpandas/_libs/lib.pyx\u001b[0m in \u001b[0;36mpandas._libs.lib.map_infer\u001b[0;34m()\u001b[0m\n",
      "\u001b[0;32m<ipython-input-9-f8078f02d19f>\u001b[0m in \u001b[0;36mencodings\u001b[0;34m(description)\u001b[0m\n\u001b[1;32m      9\u001b[0m \u001b[0;32mdef\u001b[0m \u001b[0mencodings\u001b[0m\u001b[0;34m(\u001b[0m\u001b[0mdescription\u001b[0m\u001b[0;34m)\u001b[0m\u001b[0;34m:\u001b[0m\u001b[0;34m\u001b[0m\u001b[0;34m\u001b[0m\u001b[0m\n\u001b[1;32m     10\u001b[0m     \u001b[0mbar\u001b[0m\u001b[0;34m.\u001b[0m\u001b[0mnext\u001b[0m\u001b[0;34m(\u001b[0m\u001b[0;34m)\u001b[0m\u001b[0;34m\u001b[0m\u001b[0;34m\u001b[0m\u001b[0m\n\u001b[0;32m---> 11\u001b[0;31m     \u001b[0;32mreturn\u001b[0m \u001b[0mbc\u001b[0m\u001b[0;34m.\u001b[0m\u001b[0mencode\u001b[0m\u001b[0;34m(\u001b[0m\u001b[0;34m[\u001b[0m\u001b[0mdescription\u001b[0m\u001b[0;34m]\u001b[0m\u001b[0;34m)\u001b[0m\u001b[0;34m\u001b[0m\u001b[0;34m\u001b[0m\u001b[0m\n\u001b[0m\u001b[1;32m     12\u001b[0m \u001b[0;31m# encodings = lambda x: bc.encode([x]); bar.next()\u001b[0m\u001b[0;34m\u001b[0m\u001b[0;34m\u001b[0m\u001b[0;34m\u001b[0m\u001b[0m\n\u001b[1;32m     13\u001b[0m \u001b[0ms\u001b[0m\u001b[0;34m[\u001b[0m\u001b[0;34m'embeddings'\u001b[0m\u001b[0;34m]\u001b[0m \u001b[0;34m=\u001b[0m \u001b[0ms\u001b[0m\u001b[0;34m[\u001b[0m\u001b[0;34m'description'\u001b[0m\u001b[0;34m]\u001b[0m\u001b[0;34m.\u001b[0m\u001b[0mapply\u001b[0m\u001b[0;34m(\u001b[0m\u001b[0mencodings\u001b[0m\u001b[0;34m)\u001b[0m\u001b[0;34m\u001b[0m\u001b[0;34m\u001b[0m\u001b[0m\n",
      "\u001b[0;32m~/.local/share/virtualenvs/WineInAMillion-gc_NmYU7/lib/python3.7/site-packages/bert_serving/client/__init__.py\u001b[0m in \u001b[0;36marg_wrapper\u001b[0;34m(self, *args, **kwargs)\u001b[0m\n\u001b[1;32m    204\u001b[0m                 \u001b[0mself\u001b[0m\u001b[0;34m.\u001b[0m\u001b[0mreceiver\u001b[0m\u001b[0;34m.\u001b[0m\u001b[0msetsockopt\u001b[0m\u001b[0;34m(\u001b[0m\u001b[0mzmq\u001b[0m\u001b[0;34m.\u001b[0m\u001b[0mRCVTIMEO\u001b[0m\u001b[0;34m,\u001b[0m \u001b[0mself\u001b[0m\u001b[0;34m.\u001b[0m\u001b[0mtimeout\u001b[0m\u001b[0;34m)\u001b[0m\u001b[0;34m\u001b[0m\u001b[0;34m\u001b[0m\u001b[0m\n\u001b[1;32m    205\u001b[0m             \u001b[0;32mtry\u001b[0m\u001b[0;34m:\u001b[0m\u001b[0;34m\u001b[0m\u001b[0;34m\u001b[0m\u001b[0m\n\u001b[0;32m--> 206\u001b[0;31m                 \u001b[0;32mreturn\u001b[0m \u001b[0mfunc\u001b[0m\u001b[0;34m(\u001b[0m\u001b[0mself\u001b[0m\u001b[0;34m,\u001b[0m \u001b[0;34m*\u001b[0m\u001b[0margs\u001b[0m\u001b[0;34m,\u001b[0m \u001b[0;34m**\u001b[0m\u001b[0mkwargs\u001b[0m\u001b[0;34m)\u001b[0m\u001b[0;34m\u001b[0m\u001b[0;34m\u001b[0m\u001b[0m\n\u001b[0m\u001b[1;32m    207\u001b[0m             \u001b[0;32mexcept\u001b[0m \u001b[0mzmq\u001b[0m\u001b[0;34m.\u001b[0m\u001b[0merror\u001b[0m\u001b[0;34m.\u001b[0m\u001b[0mAgain\u001b[0m \u001b[0;32mas\u001b[0m \u001b[0m_e\u001b[0m\u001b[0;34m:\u001b[0m\u001b[0;34m\u001b[0m\u001b[0;34m\u001b[0m\u001b[0m\n\u001b[1;32m    208\u001b[0m                 t_e = TimeoutError(\n",
      "\u001b[0;32m~/.local/share/virtualenvs/WineInAMillion-gc_NmYU7/lib/python3.7/site-packages/bert_serving/client/__init__.py\u001b[0m in \u001b[0;36mencode\u001b[0;34m(self, texts, blocking, is_tokenized, show_tokens)\u001b[0m\n\u001b[1;32m    302\u001b[0m         \u001b[0;32mif\u001b[0m \u001b[0;32mnot\u001b[0m \u001b[0mblocking\u001b[0m\u001b[0;34m:\u001b[0m\u001b[0;34m\u001b[0m\u001b[0;34m\u001b[0m\u001b[0m\n\u001b[1;32m    303\u001b[0m             \u001b[0;32mreturn\u001b[0m \u001b[0;32mNone\u001b[0m\u001b[0;34m\u001b[0m\u001b[0;34m\u001b[0m\u001b[0m\n\u001b[0;32m--> 304\u001b[0;31m         \u001b[0mr\u001b[0m \u001b[0;34m=\u001b[0m \u001b[0mself\u001b[0m\u001b[0;34m.\u001b[0m\u001b[0m_recv_ndarray\u001b[0m\u001b[0;34m(\u001b[0m\u001b[0mreq_id\u001b[0m\u001b[0;34m)\u001b[0m\u001b[0;34m\u001b[0m\u001b[0;34m\u001b[0m\u001b[0m\n\u001b[0m\u001b[1;32m    305\u001b[0m         \u001b[0;32mif\u001b[0m \u001b[0mself\u001b[0m\u001b[0;34m.\u001b[0m\u001b[0mtoken_info_available\u001b[0m \u001b[0;32mand\u001b[0m \u001b[0mshow_tokens\u001b[0m\u001b[0;34m:\u001b[0m\u001b[0;34m\u001b[0m\u001b[0;34m\u001b[0m\u001b[0m\n\u001b[1;32m    306\u001b[0m             \u001b[0;32mreturn\u001b[0m \u001b[0mr\u001b[0m\u001b[0;34m.\u001b[0m\u001b[0membedding\u001b[0m\u001b[0;34m,\u001b[0m \u001b[0mr\u001b[0m\u001b[0;34m.\u001b[0m\u001b[0mtokens\u001b[0m\u001b[0;34m\u001b[0m\u001b[0;34m\u001b[0m\u001b[0m\n",
      "\u001b[0;32m~/.local/share/virtualenvs/WineInAMillion-gc_NmYU7/lib/python3.7/site-packages/bert_serving/client/__init__.py\u001b[0m in \u001b[0;36m_recv_ndarray\u001b[0;34m(self, wait_for_req_id)\u001b[0m\n\u001b[1;32m    168\u001b[0m \u001b[0;34m\u001b[0m\u001b[0m\n\u001b[1;32m    169\u001b[0m     \u001b[0;32mdef\u001b[0m \u001b[0m_recv_ndarray\u001b[0m\u001b[0;34m(\u001b[0m\u001b[0mself\u001b[0m\u001b[0;34m,\u001b[0m \u001b[0mwait_for_req_id\u001b[0m\u001b[0;34m=\u001b[0m\u001b[0;32mNone\u001b[0m\u001b[0;34m)\u001b[0m\u001b[0;34m:\u001b[0m\u001b[0;34m\u001b[0m\u001b[0;34m\u001b[0m\u001b[0m\n\u001b[0;32m--> 170\u001b[0;31m         \u001b[0mrequest_id\u001b[0m\u001b[0;34m,\u001b[0m \u001b[0mresponse\u001b[0m \u001b[0;34m=\u001b[0m \u001b[0mself\u001b[0m\u001b[0;34m.\u001b[0m\u001b[0m_recv\u001b[0m\u001b[0;34m(\u001b[0m\u001b[0mwait_for_req_id\u001b[0m\u001b[0;34m)\u001b[0m\u001b[0;34m\u001b[0m\u001b[0;34m\u001b[0m\u001b[0m\n\u001b[0m\u001b[1;32m    171\u001b[0m         \u001b[0marr_info\u001b[0m\u001b[0;34m,\u001b[0m \u001b[0marr_val\u001b[0m \u001b[0;34m=\u001b[0m \u001b[0mjsonapi\u001b[0m\u001b[0;34m.\u001b[0m\u001b[0mloads\u001b[0m\u001b[0;34m(\u001b[0m\u001b[0mresponse\u001b[0m\u001b[0;34m[\u001b[0m\u001b[0;36m1\u001b[0m\u001b[0;34m]\u001b[0m\u001b[0;34m)\u001b[0m\u001b[0;34m,\u001b[0m \u001b[0mresponse\u001b[0m\u001b[0;34m[\u001b[0m\u001b[0;36m2\u001b[0m\u001b[0;34m]\u001b[0m\u001b[0;34m\u001b[0m\u001b[0;34m\u001b[0m\u001b[0m\n\u001b[1;32m    172\u001b[0m         \u001b[0mX\u001b[0m \u001b[0;34m=\u001b[0m \u001b[0mnp\u001b[0m\u001b[0;34m.\u001b[0m\u001b[0mfrombuffer\u001b[0m\u001b[0;34m(\u001b[0m\u001b[0m_buffer\u001b[0m\u001b[0;34m(\u001b[0m\u001b[0marr_val\u001b[0m\u001b[0;34m)\u001b[0m\u001b[0;34m,\u001b[0m \u001b[0mdtype\u001b[0m\u001b[0;34m=\u001b[0m\u001b[0mstr\u001b[0m\u001b[0;34m(\u001b[0m\u001b[0marr_info\u001b[0m\u001b[0;34m[\u001b[0m\u001b[0;34m'dtype'\u001b[0m\u001b[0;34m]\u001b[0m\u001b[0;34m)\u001b[0m\u001b[0;34m)\u001b[0m\u001b[0;34m\u001b[0m\u001b[0;34m\u001b[0m\u001b[0m\n",
      "\u001b[0;32m~/.local/share/virtualenvs/WineInAMillion-gc_NmYU7/lib/python3.7/site-packages/bert_serving/client/__init__.py\u001b[0m in \u001b[0;36m_recv\u001b[0;34m(self, wait_for_req_id)\u001b[0m\n\u001b[1;32m    151\u001b[0m \u001b[0;34m\u001b[0m\u001b[0m\n\u001b[1;32m    152\u001b[0m                 \u001b[0;31m# receive a response\u001b[0m\u001b[0;34m\u001b[0m\u001b[0;34m\u001b[0m\u001b[0;34m\u001b[0m\u001b[0m\n\u001b[0;32m--> 153\u001b[0;31m                 \u001b[0mresponse\u001b[0m \u001b[0;34m=\u001b[0m \u001b[0mself\u001b[0m\u001b[0;34m.\u001b[0m\u001b[0mreceiver\u001b[0m\u001b[0;34m.\u001b[0m\u001b[0mrecv_multipart\u001b[0m\u001b[0;34m(\u001b[0m\u001b[0;34m)\u001b[0m\u001b[0;34m\u001b[0m\u001b[0;34m\u001b[0m\u001b[0m\n\u001b[0m\u001b[1;32m    154\u001b[0m                 \u001b[0mrequest_id\u001b[0m \u001b[0;34m=\u001b[0m \u001b[0mint\u001b[0m\u001b[0;34m(\u001b[0m\u001b[0mresponse\u001b[0m\u001b[0;34m[\u001b[0m\u001b[0;34m-\u001b[0m\u001b[0;36m1\u001b[0m\u001b[0;34m]\u001b[0m\u001b[0;34m)\u001b[0m\u001b[0;34m\u001b[0m\u001b[0;34m\u001b[0m\u001b[0m\n\u001b[1;32m    155\u001b[0m \u001b[0;34m\u001b[0m\u001b[0m\n",
      "\u001b[0;32m~/.local/share/virtualenvs/WineInAMillion-gc_NmYU7/lib/python3.7/site-packages/zmq/sugar/socket.py\u001b[0m in \u001b[0;36mrecv_multipart\u001b[0;34m(self, flags, copy, track)\u001b[0m\n\u001b[1;32m    473\u001b[0m             \u001b[0;32mfor\u001b[0m \u001b[0many\u001b[0m \u001b[0mof\u001b[0m \u001b[0mthe\u001b[0m \u001b[0mreasons\u001b[0m \u001b[0;34m:\u001b[0m\u001b[0mfunc\u001b[0m\u001b[0;34m:\u001b[0m\u001b[0;31m`\u001b[0m\u001b[0;34m~\u001b[0m\u001b[0mSocket\u001b[0m\u001b[0;34m.\u001b[0m\u001b[0mrecv\u001b[0m\u001b[0;31m`\u001b[0m \u001b[0mmight\u001b[0m \u001b[0mfail\u001b[0m\u001b[0;34m\u001b[0m\u001b[0;34m\u001b[0m\u001b[0m\n\u001b[1;32m    474\u001b[0m         \"\"\"\n\u001b[0;32m--> 475\u001b[0;31m         \u001b[0mparts\u001b[0m \u001b[0;34m=\u001b[0m \u001b[0;34m[\u001b[0m\u001b[0mself\u001b[0m\u001b[0;34m.\u001b[0m\u001b[0mrecv\u001b[0m\u001b[0;34m(\u001b[0m\u001b[0mflags\u001b[0m\u001b[0;34m,\u001b[0m \u001b[0mcopy\u001b[0m\u001b[0;34m=\u001b[0m\u001b[0mcopy\u001b[0m\u001b[0;34m,\u001b[0m \u001b[0mtrack\u001b[0m\u001b[0;34m=\u001b[0m\u001b[0mtrack\u001b[0m\u001b[0;34m)\u001b[0m\u001b[0;34m]\u001b[0m\u001b[0;34m\u001b[0m\u001b[0;34m\u001b[0m\u001b[0m\n\u001b[0m\u001b[1;32m    476\u001b[0m         \u001b[0;31m# have first part already, only loop while more to receive\u001b[0m\u001b[0;34m\u001b[0m\u001b[0;34m\u001b[0m\u001b[0;34m\u001b[0m\u001b[0m\n\u001b[1;32m    477\u001b[0m         \u001b[0;32mwhile\u001b[0m \u001b[0mself\u001b[0m\u001b[0;34m.\u001b[0m\u001b[0mgetsockopt\u001b[0m\u001b[0;34m(\u001b[0m\u001b[0mzmq\u001b[0m\u001b[0;34m.\u001b[0m\u001b[0mRCVMORE\u001b[0m\u001b[0;34m)\u001b[0m\u001b[0;34m:\u001b[0m\u001b[0;34m\u001b[0m\u001b[0;34m\u001b[0m\u001b[0m\n",
      "\u001b[0;32mzmq/backend/cython/socket.pyx\u001b[0m in \u001b[0;36mzmq.backend.cython.socket.Socket.recv\u001b[0;34m()\u001b[0m\n",
      "\u001b[0;32mzmq/backend/cython/socket.pyx\u001b[0m in \u001b[0;36mzmq.backend.cython.socket.Socket.recv\u001b[0;34m()\u001b[0m\n",
      "\u001b[0;32mzmq/backend/cython/socket.pyx\u001b[0m in \u001b[0;36mzmq.backend.cython.socket._recv_copy\u001b[0;34m()\u001b[0m\n",
      "\u001b[0;32m~/.local/share/virtualenvs/WineInAMillion-gc_NmYU7/lib/python3.7/site-packages/zmq/backend/cython/checkrc.pxd\u001b[0m in \u001b[0;36mzmq.backend.cython.checkrc._check_rc\u001b[0;34m()\u001b[0m\n",
      "\u001b[0;31mKeyboardInterrupt\u001b[0m: "
     ]
    }
   ],
   "source": [
    "from progress.bar import ChargingBar\n",
    "\n",
    "s=s.head(10000)\n",
    "print(len(s))\n",
    "print(s)\n",
    "\n",
    "print(\"connected\")\n",
    "bar = ChargingBar('Embedding\\t\\t\\t\\t', max=len(s))\n",
    "def encodings(description):\n",
    "    bar.next()\n",
    "    return bc.encode([description])\n",
    "# encodings = lambda x: bc.encode([x]); bar.next()\n",
    "s['embeddings'] = s['description'].apply(encodings)\n",
    "\n",
    "bar.finish()"
   ]
  },
  {
   "cell_type": "code",
   "execution_count": 10,
   "metadata": {},
   "outputs": [
    {
     "name": "stdout",
     "output_type": "stream",
     "text": [
      "      Unnamed: 0   country                                        description  \\\n",
      "0              0     Italy  Aromas include tropical fruit, broom, brimston...   \n",
      "1              1  Portugal  This is ripe and fruity, a wine that is smooth...   \n",
      "2              2        US  Tart and snappy, the flavors of lime flesh and...   \n",
      "3              3        US  Pineapple rind, lemon pith and orange blossom ...   \n",
      "4              4        US  Much like the regular bottling from 2012, this...   \n",
      "...          ...       ...                                                ...   \n",
      "9995        9995        US  Comes from a little-understood part of the spr...   \n",
      "9996        9996        US  Smoky and savory, with sharp acidity under bla...   \n",
      "9997        9997    France  The style at Domaines Ott has changed to becom...   \n",
      "9998        9998        US  It's interesting and a little odd that this 10...   \n",
      "9999        9999    France  As befits a single vineyard Gevrey Chambertin,...   \n",
      "\n",
      "                             designation  points  price           province  \\\n",
      "0                           Vulkà Bianco      87    NaN  Sicily & Sardinia   \n",
      "1                               Avidagos      87   15.0              Douro   \n",
      "2                                    NaN      87   14.0             Oregon   \n",
      "3                   Reserve Late Harvest      87   13.0           Michigan   \n",
      "4     Vintner's Reserve Wild Child Block      87   65.0             Oregon   \n",
      "...                                  ...     ...    ...                ...   \n",
      "9995                      Griffin's Lair      89   46.0         California   \n",
      "9996                                 NaN      89   22.0         Washington   \n",
      "9997                    Château de Selle      89   43.0           Provence   \n",
      "9998           To Kalon Vineyard I Block      91   75.0         California   \n",
      "9999                       Les Evocelles      91   52.0           Burgundy   \n",
      "\n",
      "                  region_1           region_2         taster_name  \\\n",
      "0                     Etna                NaN       Kerin O’Keefe   \n",
      "1                      NaN                NaN          Roger Voss   \n",
      "2        Willamette Valley  Willamette Valley        Paul Gregutt   \n",
      "3      Lake Michigan Shore                NaN  Alexander Peartree   \n",
      "4        Willamette Valley  Willamette Valley        Paul Gregutt   \n",
      "...                    ...                ...                 ...   \n",
      "9995          Sonoma Coast             Sonoma                 NaN   \n",
      "9996  Columbia Valley (WA)    Columbia Valley        Paul Gregutt   \n",
      "9997     Côtes de Provence                NaN          Roger Voss   \n",
      "9998              Oakville               Napa                 NaN   \n",
      "9999     Gevrey-Chambertin                NaN          Roger Voss   \n",
      "\n",
      "     taster_twitter_handle                                              title  \\\n",
      "0             @kerinokeefe                  Nicosia 2013 Vulkà Bianco  (Etna)   \n",
      "1               @vossroger      Quinta dos Avidagos 2011 Avidagos Red (Douro)   \n",
      "2              @paulgwine       Rainstorm 2013 Pinot Gris (Willamette Valley)   \n",
      "3                      NaN  St. Julian 2013 Reserve Late Harvest Riesling ...   \n",
      "4              @paulgwine   Sweet Cheeks 2012 Vintner's Reserve Wild Child...   \n",
      "...                    ...                                                ...   \n",
      "9995                   NaN  Roessler 2008 Griffin's Lair Pinot Noir (Sonom...   \n",
      "9996           @paulgwine   Seven Hills 2007 Tempranillo (Columbia Valley ...   \n",
      "9997            @vossroger  Domaines Ott 2009 Château de Selle Rosé (Côtes...   \n",
      "9998                   NaN  Robert Mondavi 2010 To Kalon Vineyard I Block ...   \n",
      "9999            @vossroger  Henri de Villamont 2010 Les Evocelles  (Gevrey...   \n",
      "\n",
      "             variety               winery  \n",
      "0        White Blend              Nicosia  \n",
      "1     Portuguese Red  Quinta dos Avidagos  \n",
      "2         Pinot Gris            Rainstorm  \n",
      "3           Riesling           St. Julian  \n",
      "4         Pinot Noir         Sweet Cheeks  \n",
      "...              ...                  ...  \n",
      "9995      Pinot Noir             Roessler  \n",
      "9996     Tempranillo          Seven Hills  \n",
      "9997            Rosé         Domaines Ott  \n",
      "9998      Fumé Blanc       Robert Mondavi  \n",
      "9999      Pinot Noir   Henri de Villamont  \n",
      "\n",
      "[10000 rows x 14 columns]\n"
     ]
    }
   ],
   "source": [
    "print(s)"
   ]
  },
  {
   "cell_type": "code",
   "execution_count": 13,
   "metadata": {},
   "outputs": [],
   "source": [
    "s.to_json('../data/embedded.json',orient='records')"
   ]
  },
  {
   "cell_type": "code",
   "execution_count": 1,
   "metadata": {},
   "outputs": [
    {
     "ename": "NameError",
     "evalue": "name 'pd' is not defined",
     "output_type": "error",
     "traceback": [
      "\u001b[0;31m---------------------------------------------------------------------------\u001b[0m",
      "\u001b[0;31mNameError\u001b[0m                                 Traceback (most recent call last)",
      "\u001b[0;32m<ipython-input-1-5766f35f966a>\u001b[0m in \u001b[0;36m<module>\u001b[0;34m\u001b[0m\n\u001b[0;32m----> 1\u001b[0;31m \u001b[0ms\u001b[0m \u001b[0;34m=\u001b[0m \u001b[0mpd\u001b[0m\u001b[0;34m.\u001b[0m\u001b[0mread_json\u001b[0m\u001b[0;34m(\u001b[0m\u001b[0;34m'../data/clean_embedded.json'\u001b[0m\u001b[0;34m,\u001b[0m\u001b[0morient\u001b[0m\u001b[0;34m=\u001b[0m\u001b[0;34m'records'\u001b[0m\u001b[0;34m)\u001b[0m\u001b[0;34m\u001b[0m\u001b[0;34m\u001b[0m\u001b[0m\n\u001b[0m",
      "\u001b[0;31mNameError\u001b[0m: name 'pd' is not defined"
     ]
    }
   ],
   "source": [
    "s = pd.read_json('../data/clean_embedded.json',orient='records')"
   ]
  },
  {
   "cell_type": "code",
   "execution_count": 6,
   "metadata": {
    "scrolled": true
   },
   "outputs": [
    {
     "name": "stdout",
     "output_type": "stream",
     "text": [
      "      Unnamed: 0   country                                        description  \\\n",
      "0              0     Italy  Aromas include tropical fruit, broom, brimston...   \n",
      "1              1  Portugal  This is ripe and fruity, a wine that is smooth...   \n",
      "2              2        US  Tart and snappy, the flavors of lime flesh and...   \n",
      "3              3        US  Pineapple rind, lemon pith and orange blossom ...   \n",
      "4              4        US  Much like the regular bottling from 2012, this...   \n",
      "...          ...       ...                                                ...   \n",
      "9995        9995        US  Comes from a little-understood part of the spr...   \n",
      "9996        9996        US  Smoky and savory, with sharp acidity under bla...   \n",
      "9997        9997    France  The style at Domaines Ott has changed to becom...   \n",
      "9998        9998        US  It's interesting and a little odd that this 10...   \n",
      "9999        9999    France  As befits a single vineyard Gevrey Chambertin,...   \n",
      "\n",
      "                             designation  points  price           province  \\\n",
      "0                           Vulkà Bianco      87    NaN  Sicily & Sardinia   \n",
      "1                               Avidagos      87   15.0              Douro   \n",
      "2                                   None      87   14.0             Oregon   \n",
      "3                   Reserve Late Harvest      87   13.0           Michigan   \n",
      "4     Vintner's Reserve Wild Child Block      87   65.0             Oregon   \n",
      "...                                  ...     ...    ...                ...   \n",
      "9995                      Griffin's Lair      89   46.0         California   \n",
      "9996                                None      89   22.0         Washington   \n",
      "9997                    Château de Selle      89   43.0           Provence   \n",
      "9998           To Kalon Vineyard I Block      91   75.0         California   \n",
      "9999                       Les Evocelles      91   52.0           Burgundy   \n",
      "\n",
      "                  region_1           region_2         taster_name  \\\n",
      "0                     Etna               None       Kerin O’Keefe   \n",
      "1                     None               None          Roger Voss   \n",
      "2        Willamette Valley  Willamette Valley        Paul Gregutt   \n",
      "3      Lake Michigan Shore               None  Alexander Peartree   \n",
      "4        Willamette Valley  Willamette Valley        Paul Gregutt   \n",
      "...                    ...                ...                 ...   \n",
      "9995          Sonoma Coast             Sonoma                None   \n",
      "9996  Columbia Valley (WA)    Columbia Valley        Paul Gregutt   \n",
      "9997     Côtes de Provence               None          Roger Voss   \n",
      "9998              Oakville               Napa                None   \n",
      "9999     Gevrey-Chambertin               None          Roger Voss   \n",
      "\n",
      "     taster_twitter_handle                                              title  \\\n",
      "0             @kerinokeefe                  Nicosia 2013 Vulkà Bianco  (Etna)   \n",
      "1               @vossroger      Quinta dos Avidagos 2011 Avidagos Red (Douro)   \n",
      "2              @paulgwine       Rainstorm 2013 Pinot Gris (Willamette Valley)   \n",
      "3                     None  St. Julian 2013 Reserve Late Harvest Riesling ...   \n",
      "4              @paulgwine   Sweet Cheeks 2012 Vintner's Reserve Wild Child...   \n",
      "...                    ...                                                ...   \n",
      "9995                  None  Roessler 2008 Griffin's Lair Pinot Noir (Sonom...   \n",
      "9996           @paulgwine   Seven Hills 2007 Tempranillo (Columbia Valley ...   \n",
      "9997            @vossroger  Domaines Ott 2009 Château de Selle Rosé (Côtes...   \n",
      "9998                  None  Robert Mondavi 2010 To Kalon Vineyard I Block ...   \n",
      "9999            @vossroger  Henri de Villamont 2010 Les Evocelles  (Gevrey...   \n",
      "\n",
      "             variety               winery  \\\n",
      "0        White Blend              Nicosia   \n",
      "1     Portuguese Red  Quinta dos Avidagos   \n",
      "2         Pinot Gris            Rainstorm   \n",
      "3           Riesling           St. Julian   \n",
      "4         Pinot Noir         Sweet Cheeks   \n",
      "...              ...                  ...   \n",
      "9995      Pinot Noir             Roessler   \n",
      "9996     Tempranillo          Seven Hills   \n",
      "9997            Rosé         Domaines Ott   \n",
      "9998      Fumé Blanc       Robert Mondavi   \n",
      "9999      Pinot Noir   Henri de Villamont   \n",
      "\n",
      "                                             embeddings  \n",
      "0     [[-0.3740922511, -0.1955962032, -0.1982344389,...  \n",
      "1     [[-0.19169993700000001, -0.3017724752, -0.0874...  \n",
      "2     [[-0.2065283954, -0.5207868814000001, -0.40704...  \n",
      "3     [[-0.349119544, -0.20807464420000002, -0.11920...  \n",
      "4     [[-0.1429693103, -0.0513668694, -0.17951400580...  \n",
      "...                                                 ...  \n",
      "9995  [[-0.1312595308, -0.4656283855, -0.3927034438,...  \n",
      "9996  [[-0.3130856752, -0.3337628543, -0.3572506607,...  \n",
      "9997  [[-0.23126760130000001, 0.0359894373, -0.15267...  \n",
      "9998  [[-0.0495685562, 0.3156019151, -0.4407892525, ...  \n",
      "9999  [[-0.3882536292, -0.061735045200000005, -0.370...  \n",
      "\n",
      "[10000 rows x 15 columns]\n"
     ]
    }
   ],
   "source": [
    "print(s)"
   ]
  },
  {
   "cell_type": "code",
   "execution_count": 53,
   "metadata": {},
   "outputs": [
    {
     "name": "stdout",
     "output_type": "stream",
     "text": [
      "0          0\n",
      "1          1\n",
      "2          2\n",
      "3          3\n",
      "4          4\n",
      "        ... \n",
      "9995    9995\n",
      "9996    9996\n",
      "9997    9997\n",
      "9998    9998\n",
      "9999    9999\n",
      "Name: id, Length: 10000, dtype: int64\n"
     ]
    }
   ],
   "source": [
    "s['id']=s['Unnamed: 0']"
   ]
  },
  {
   "cell_type": "code",
   "execution_count": 96,
   "metadata": {},
   "outputs": [],
   "source": [
    "from scipy import spatial\n",
    "\n",
    "cosine_similarity = lambda x, y: 1 - spatial.distance.cosine(x, y)\n",
    "similarities = []\n",
    "\n",
    "# inputted_sentence = [\"dry with a fruity aftertaste\"] # this inputted sentence needs to get vectorized\n",
    "inputted_sentence = [\"floral essence of full bodied holistic notes of oak\"] # this inputted sentence needs to get vectorized\n",
    "cmp_sent = bc.encode(inputted_sentence) # vectorizing the senetence\n",
    "for index, row in s.iterrows():\n",
    "    similarity = cosine_similarity(cmp_sent,row['embeddings'])\n",
    "    similarities.append((row['id'],row['title'],similarity))\n",
    "# for sentences in s[\"embeddings\"]:\n",
    "#     similarity = cosine_similarity(cmp_sent, sentences)\n",
    "#     print(similarity)\n",
    "#     similarities.append((sentences,similarity))\n",
    "    \n",
    "similarities = sorted(similarities, key=lambda item: -item[2])"
   ]
  },
  {
   "cell_type": "code",
   "execution_count": 97,
   "metadata": {},
   "outputs": [
    {
     "name": "stdout",
     "output_type": "stream",
     "text": [
      "[(4358, 'Château La Clare 2014  Médoc', 0.8023238327017678), (7323, 'Kadesh Barnea 2004 Estate Bottled Reserve Kosher Merlot (Negev Hills)', 0.7802119236240315), (3108, 'Falezza 2005  Amarone della Valpolicella', 0.779959322955343), (7293, 'Kuentz-Bas 2015 Tradition Edelzwicker (Alsace)', 0.7759719445663198), (637, 'Biecher & Schaal 2014 Altenberg de Bergheim Grand Cru White (Alsace)', 0.7518638402406129)]\n",
      "(637, 'Biecher & Schaal 2014 Altenberg de Bergheim Grand Cru White (Alsace)', 0.7518638402406129)\n"
     ]
    }
   ],
   "source": [
    "# print(cmp_sent)\n",
    "print(similarities[-5:])\n",
    "best = similarities[len(similarities)-1]\n",
    "print(best)\n"
   ]
  },
  {
   "cell_type": "code",
   "execution_count": 98,
   "metadata": {},
   "outputs": [
    {
     "name": "stdout",
     "output_type": "stream",
     "text": [
      "Unnamed: 0                                                             637\n",
      "country                                                             France\n",
      "description              A rather perfumed nose hints at the Gewurztram...\n",
      "designation                                Altenberg de Bergheim Grand Cru\n",
      "points                                                                  92\n",
      "price                                                                   45\n",
      "province                                                            Alsace\n",
      "region_1                                                            Alsace\n",
      "region_2                                                              None\n",
      "taster_name                                               Anne Krebiehl MW\n",
      "taster_twitter_handle                                          @AnneInVino\n",
      "title                    Biecher & Schaal 2014 Altenberg de Bergheim Gr...\n",
      "variety                                                 Alsace white blend\n",
      "winery                                                    Biecher & Schaal\n",
      "embeddings               [[-1.0100579262, -0.1881605536, 0.038509182600...\n",
      "id                                                                     637\n",
      "Name: 637, dtype: object\n"
     ]
    }
   ],
   "source": [
    "best_instance = s.iloc[best[0]]\n",
    "print(best_instance)\n"
   ]
  },
  {
   "cell_type": "code",
   "execution_count": 124,
   "metadata": {
    "scrolled": true
   },
   "outputs": [
    {
     "name": "stdout",
     "output_type": "stream",
     "text": [
      "474\n",
      "A rather perfumed nose hints at the Gewurztraminer that colors this Riesling with rose petal and honeysuckle notes. The co-planted varieties in this vineyard make a smashing duo since they are almost polar opposites: structured, straight-laced Riesling with its fine spine of acidity benefits from the playfulness and charm of aromatic, fleshy Gewurztraminer which in turn is lit up by Riesling's freshness. Really, this is a case where you can have the best of both worlds.\n"
     ]
    }
   ],
   "source": [
    "# print([w[0] for w in similarities[:10]])\n",
    "print(len(best_instance['description']))\n",
    "print(best_instance['description'])"
   ]
  },
  {
   "cell_type": "code",
   "execution_count": 108,
   "metadata": {},
   "outputs": [
    {
     "name": "stderr",
     "output_type": "stream",
     "text": [
      "[nltk_data] Downloading package stopwords to\n",
      "[nltk_data]     /Users/johannes/nltk_data...\n",
      "[nltk_data]   Package stopwords is already up-to-date!\n"
     ]
    },
    {
     "data": {
      "text/plain": [
       "True"
      ]
     },
     "execution_count": 108,
     "metadata": {},
     "output_type": "execute_result"
    }
   ],
   "source": [
    "import nltk\n",
    "nltk.download('stopwords')"
   ]
  },
  {
   "cell_type": "code",
   "execution_count": 112,
   "metadata": {},
   "outputs": [
    {
     "name": "stdout",
     "output_type": "stream",
     "text": [
      "rather perfumed nose hints gewurztraminer colors riesling rose petal honeysuckle notes. co-planted varieties vineyard make smashing duo since almost polar opposites: structured, straight-laced riesling fine spine acidity benefits playfulness charm aromatic, fleshy gewurztraminer turn lit riesling's freshness. really, case best worlds.\n"
     ]
    }
   ],
   "source": [
    "from nltk.corpus import stopwords\n",
    "\n",
    "\n",
    "words = stopwords.words('english')\n",
    "lower = \" \".join([w for w in best_instance['description'].lower().split() if not w in words])\n",
    "\n",
    "\n",
    "print(lower)"
   ]
  },
  {
   "cell_type": "code",
   "execution_count": 113,
   "metadata": {},
   "outputs": [
    {
     "name": "stdout",
     "output_type": "stream",
     "text": [
      "rather perfumed nose hints gewurztraminer colors riesling rose petal honeysuckle notes coplanted varieties vineyard make smashing duo since almost polar opposites structured straightlaced riesling fine spine acidity benefits playfulness charm aromatic fleshy gewurztraminer turn lit rieslings freshness really case best worlds\n"
     ]
    }
   ],
   "source": [
    "from string import punctuation \n",
    "\n",
    "punct = ''.join(ch for ch in lower if ch not in punctuation)\n",
    "\n",
    "print(punct)"
   ]
  },
  {
   "cell_type": "code",
   "execution_count": 120,
   "metadata": {},
   "outputs": [
    {
     "name": "stderr",
     "output_type": "stream",
     "text": [
      "[nltk_data] Downloading package punkt to /Users/johannes/nltk_data...\n",
      "[nltk_data]   Package punkt is already up-to-date!\n",
      "[nltk_data] Downloading package wordnet to\n",
      "[nltk_data]     /Users/johannes/nltk_data...\n",
      "[nltk_data]   Unzipping corpora/wordnet.zip.\n"
     ]
    },
    {
     "data": {
      "text/plain": [
       "True"
      ]
     },
     "execution_count": 120,
     "metadata": {},
     "output_type": "execute_result"
    }
   ],
   "source": [
    "nltk.download('punkt')\n",
    "nltk.download('wordnet')"
   ]
  },
  {
   "cell_type": "code",
   "execution_count": 125,
   "metadata": {},
   "outputs": [
    {
     "name": "stdout",
     "output_type": "stream",
     "text": [
      "317\n",
      "rather perfumed nose hint gewurztraminer color riesling rose petal honeysuckle note coplanted variety vineyard make smashing duo since almost polar opposite structured straightlaced riesling fine spine acidity benefit playfulness charm aromatic fleshy gewurztraminer turn lit riesling freshness really case best world\n"
     ]
    }
   ],
   "source": [
    "from nltk.stem import WordNetLemmatizer\n",
    "\n",
    "wordnet_lemmatizer = WordNetLemmatizer()\n",
    "\n",
    "word_tokens = nltk.word_tokenize(punct)\n",
    "lemmatized_word = [wordnet_lemmatizer.lemmatize(word) for word in word_tokens]\n",
    "\n",
    "lemmatized_word_joined = \" \".join(lemmatized_word)\n",
    "\n",
    "print(len(lemmatized_word_joined))\n",
    "print(lemmatized_word_joined)"
   ]
  },
  {
   "cell_type": "code",
   "execution_count": 165,
   "metadata": {},
   "outputs": [
    {
     "name": "stderr",
     "output_type": "stream",
     "text": [
      "[nltk_data] Downloading package stopwords to\n",
      "[nltk_data]     /Users/johannes/nltk_data...\n",
      "[nltk_data]   Package stopwords is already up-to-date!\n",
      "[nltk_data] Downloading package punkt to /Users/johannes/nltk_data...\n",
      "[nltk_data]   Package punkt is already up-to-date!\n",
      "[nltk_data] Downloading package wordnet to\n",
      "[nltk_data]     /Users/johannes/nltk_data...\n",
      "[nltk_data]   Package wordnet is already up-to-date!\n"
     ]
    }
   ],
   "source": [
    "import nltk\n",
    "from nltk.corpus import stopwords\n",
    "from nltk.stem import WordNetLemmatizer\n",
    "from string import punctuation \n",
    "\n",
    "nltk.download('stopwords')\n",
    "nltk.download('punkt')\n",
    "nltk.download('wordnet')\n",
    "\n",
    "def clean_data(desc):\n",
    "    words = stopwords.words('english')\n",
    "    lower = \" \".join([w for w in desc.lower().split() if not w in words])\n",
    "    punct = ''.join(ch for ch in lower if ch not in punctuation)\n",
    "    wordnet_lemmatizer = WordNetLemmatizer()\n",
    "\n",
    "    word_tokens = nltk.word_tokenize(punct)\n",
    "    lemmatized_word = [wordnet_lemmatizer.lemmatize(word) for word in word_tokens]\n",
    "\n",
    "    word_joined = \" \".join(lemmatized_word)\n",
    "    \n",
    "    return word_joined\n",
    "    \n"
   ]
  },
  {
   "cell_type": "code",
   "execution_count": 134,
   "metadata": {},
   "outputs": [
    {
     "name": "stdout",
     "output_type": "stream",
     "text": [
      "rather perfumed nose hint gewurztraminer color riesling rose petal honeysuckle note coplanted variety vineyard make smashing duo since almost polar opposite structured straightlaced riesling fine spine acidity benefit playfulness charm aromatic fleshy gewurztraminer turn lit riesling freshness really case best world\n"
     ]
    }
   ],
   "source": [
    "print(clean_data(best_instance[\"description\"]))"
   ]
  },
  {
   "cell_type": "code",
   "execution_count": 168,
   "metadata": {},
   "outputs": [
    {
     "name": "stdout",
     "output_type": "stream",
     "text": [
      "0     aroma include tropical fruit broom brimstone d...\n",
      "1     ripe fruity wine smooth still structured firm ...\n",
      "2     tart snappy flavor lime flesh rind dominate gr...\n",
      "3     pineapple rind lemon pith orange blossom start...\n",
      "4     much like regular bottling 2012 come across ra...\n",
      "5     blackberry raspberry aroma show typical navarr...\n",
      "6     here bright informal red open aroma candied be...\n",
      "7     dry restrained wine offer spice profusion bala...\n",
      "8     savory dried thyme note accent sunnier flavor ...\n",
      "9     great depth flavor fresh apple pear fruit touc...\n",
      "10    soft supple plum envelope oaky structure caber...\n",
      "11    dry wine spicy tight taut texture strongly min...\n",
      "12    slightly reduced wine offer chalky tannic back...\n",
      "13    dominated oak oakdriven aroma include roasted ...\n",
      "14    building 150 year six generation winemaking tr...\n",
      "15    zesty orange peel apple note abound sprightly ...\n",
      "16    baked plum molasses balsamic vinegar cheesy oa...\n",
      "17    raw blackcherry aroma direct simple good juicy...\n",
      "18    desiccated blackberry leather charred wood min...\n",
      "19    red fruit aroma pervade nose cigar box menthol...\n",
      "Name: clean_desc, dtype: object\n"
     ]
    }
   ],
   "source": [
    "s['clean_desc'] = s[\"description\"].apply(clean_data)\n",
    "\n",
    "\n",
    "print(s['clean_desc'].head(20))"
   ]
  },
  {
   "cell_type": "code",
   "execution_count": 170,
   "metadata": {},
   "outputs": [],
   "source": [
    "del s['embeddings']\n",
    "s.to_json('../data/embedded.json', orient='records')"
   ]
  },
  {
   "cell_type": "code",
   "execution_count": null,
   "metadata": {},
   "outputs": [],
   "source": []
  }
 ],
 "metadata": {
  "file_extension": ".py",
  "kernelspec": {
   "display_name": "Python 3",
   "language": "python",
   "name": "python3"
  },
  "language_info": {
   "codemirror_mode": {
    "name": "ipython",
    "version": 3
   },
   "file_extension": ".py",
   "mimetype": "text/x-python",
   "name": "python",
   "nbconvert_exporter": "python",
   "pygments_lexer": "ipython3",
   "version": "3.7.4"
  },
  "mimetype": "text/x-python",
  "name": "python",
  "npconvert_exporter": "python",
  "pygments_lexer": "ipython3",
  "version": 3
 },
 "nbformat": 4,
 "nbformat_minor": 2
}
